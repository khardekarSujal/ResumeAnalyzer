{
 "cells": [
  {
   "cell_type": "markdown",
   "id": "appropriate-consumer",
   "metadata": {},
   "source": [
    "### Part - 1 SpellCheker and Simmilarity Scores"
   ]
  },
  {
   "cell_type": "markdown",
   "id": "provincial-exhibition",
   "metadata": {},
   "source": [
    "#### Installing the required packages"
   ]
  },
  {
   "cell_type": "code",
   "execution_count": 1,
   "id": "06de3391",
   "metadata": {},
   "outputs": [
    {
     "name": "stdout",
     "output_type": "stream",
     "text": [
      "Collecting docx\n",
      "  Downloading docx-0.2.4.tar.gz (54 kB)\n",
      "     ---------------------------------------- 54.9/54.9 KB 1.4 MB/s eta 0:00:00\n",
      "  Preparing metadata (setup.py): started\n",
      "  Preparing metadata (setup.py): finished with status 'done'\n",
      "Collecting lxml\n",
      "  Downloading lxml-5.2.1-cp310-cp310-win_amd64.whl (3.8 MB)\n",
      "     ---------------------------------------- 3.8/3.8 MB 5.3 MB/s eta 0:00:00\n",
      "Collecting Pillow>=2.0\n",
      "  Downloading pillow-10.3.0-cp310-cp310-win_amd64.whl (2.5 MB)\n",
      "     ---------------------------------------- 2.5/2.5 MB 5.6 MB/s eta 0:00:00\n",
      "Building wheels for collected packages: docx\n",
      "  Building wheel for docx (setup.py): started\n",
      "  Building wheel for docx (setup.py): finished with status 'done'\n",
      "  Created wheel for docx: filename=docx-0.2.4-py3-none-any.whl size=53928 sha256=8183ba8fa614f5fb13534bbeb59946f52571c91cb442f6d13d98ce914b7970e7\n",
      "  Stored in directory: c:\\users\\91940\\appdata\\local\\pip\\cache\\wheels\\81\\f5\\1d\\e09ba2c1907a43a4146d1189ae4733ca1a3bfe27ee39507767\n",
      "Successfully built docx\n",
      "Installing collected packages: Pillow, lxml, docx\n",
      "Successfully installed Pillow-10.3.0 docx-0.2.4 lxml-5.2.1\n",
      "Note: you may need to restart the kernel to use updated packages.\n"
     ]
    },
    {
     "name": "stderr",
     "output_type": "stream",
     "text": [
      "WARNING: You are using pip version 22.0.4; however, version 24.0 is available.\n",
      "You should consider upgrading via the 'c:\\Users\\91940\\AppData\\Local\\Programs\\Python\\Python310\\python.exe -m pip install --upgrade pip' command.\n"
     ]
    }
   ],
   "source": [
    "%pip install docx"
   ]
  },
  {
   "cell_type": "code",
   "execution_count": 2,
   "id": "21d2bb81",
   "metadata": {},
   "outputs": [
    {
     "name": "stdout",
     "output_type": "stream",
     "text": [
      "Collecting textractNote: you may need to restart the kernel to use updated packages.\n",
      "\n",
      "  Downloading textract-1.6.5-py3-none-any.whl (23 kB)\n",
      "Collecting extract-msg<=0.29.*\n",
      "  Downloading extract_msg-0.28.7-py2.py3-none-any.whl (69 kB)\n",
      "     ---------------------------------------- 69.0/69.0 KB 3.7 MB/s eta 0:00:00\n",
      "Collecting SpeechRecognition~=3.8.1\n",
      "  Downloading SpeechRecognition-3.8.1-py2.py3-none-any.whl (32.8 MB)\n",
      "     ---------------------------------------- 32.8/32.8 MB 4.9 MB/s eta 0:00:00\n",
      "Collecting python-pptx~=0.6.18\n",
      "  Downloading python_pptx-0.6.23-py3-none-any.whl (471 kB)\n",
      "     -------------------------------------- 471.6/471.6 KB 5.9 MB/s eta 0:00:00\n",
      "Collecting docx2txt~=0.8\n",
      "  Downloading docx2txt-0.8.tar.gz (2.8 kB)\n",
      "  Preparing metadata (setup.py): started\n",
      "  Preparing metadata (setup.py): finished with status 'done'\n",
      "Collecting pdfminer.six==20191110\n",
      "  Downloading pdfminer.six-20191110-py2.py3-none-any.whl (5.6 MB)\n",
      "     ---------------------------------------- 5.6/5.6 MB 4.9 MB/s eta 0:00:00\n",
      "Collecting xlrd~=1.2.0\n",
      "  Downloading xlrd-1.2.0-py2.py3-none-any.whl (103 kB)\n",
      "     -------------------------------------- 103.3/103.3 KB 5.8 MB/s eta 0:00:00\n",
      "Collecting chardet==3.*\n",
      "  Downloading chardet-3.0.4-py2.py3-none-any.whl (133 kB)\n",
      "     -------------------------------------- 133.4/133.4 KB 4.0 MB/s eta 0:00:00\n",
      "Collecting argcomplete~=1.10.0\n",
      "  Downloading argcomplete-1.10.3-py2.py3-none-any.whl (36 kB)\n",
      "Collecting six~=1.12.0\n",
      "  Downloading six-1.12.0-py2.py3-none-any.whl (10 kB)\n",
      "Collecting beautifulsoup4~=4.8.0\n",
      "  Downloading beautifulsoup4-4.8.2-py3-none-any.whl (106 kB)\n",
      "     -------------------------------------- 106.9/106.9 KB 6.0 MB/s eta 0:00:00\n",
      "Collecting sortedcontainers\n",
      "  Downloading sortedcontainers-2.4.0-py2.py3-none-any.whl (29 kB)\n",
      "Collecting pycryptodome\n",
      "  Downloading pycryptodome-3.20.0-cp35-abi3-win_amd64.whl (1.8 MB)\n",
      "     ---------------------------------------- 1.8/1.8 MB 5.1 MB/s eta 0:00:00\n",
      "Requirement already satisfied: soupsieve>=1.2 in c:\\users\\91940\\appdata\\local\\programs\\python\\python310\\lib\\site-packages (from beautifulsoup4~=4.8.0->textract) (2.3.2.post1)\n",
      "Collecting imapclient==2.1.0\n",
      "  Downloading IMAPClient-2.1.0-py2.py3-none-any.whl (73 kB)\n",
      "     ---------------------------------------- 74.0/74.0 KB 4.0 MB/s eta 0:00:00\n",
      "Collecting tzlocal>=2.1\n",
      "  Downloading tzlocal-5.2-py3-none-any.whl (17 kB)\n",
      "Collecting ebcdic>=1.1.1\n",
      "  Downloading ebcdic-1.1.1-py2.py3-none-any.whl (128 kB)\n",
      "     -------------------------------------- 128.5/128.5 KB 7.4 MB/s eta 0:00:00\n",
      "Collecting olefile>=0.46\n",
      "  Downloading olefile-0.47-py2.py3-none-any.whl (114 kB)\n",
      "     -------------------------------------- 114.6/114.6 KB 6.5 MB/s eta 0:00:00\n",
      "Collecting compressed-rtf>=1.0.6\n",
      "  Downloading compressed_rtf-1.0.6.tar.gz (5.8 kB)\n",
      "  Preparing metadata (setup.py): started\n",
      "  Preparing metadata (setup.py): finished with status 'done'\n",
      "Collecting XlsxWriter>=0.5.7\n",
      "  Downloading XlsxWriter-3.2.0-py3-none-any.whl (159 kB)\n",
      "     -------------------------------------- 159.9/159.9 KB 3.2 MB/s eta 0:00:00\n",
      "Requirement already satisfied: lxml>=3.1.0 in c:\\users\\91940\\appdata\\local\\programs\\python\\python310\\lib\\site-packages (from python-pptx~=0.6.18->textract) (5.2.1)\n",
      "Requirement already satisfied: Pillow>=3.3.2 in c:\\users\\91940\\appdata\\local\\programs\\python\\python310\\lib\\site-packages (from python-pptx~=0.6.18->textract) (10.3.0)\n",
      "Requirement already satisfied: tzdata in c:\\users\\91940\\appdata\\local\\programs\\python\\python310\\lib\\site-packages (from tzlocal>=2.1->extract-msg<=0.29.*->textract) (2023.3)\n",
      "Building wheels for collected packages: docx2txt, compressed-rtf\n",
      "  Building wheel for docx2txt (setup.py): started\n",
      "  Building wheel for docx2txt (setup.py): finished with status 'done'\n",
      "  Created wheel for docx2txt: filename=docx2txt-0.8-py3-none-any.whl size=3989 sha256=a210080ffc406f523d4782c0eeeec479559d29d26ac16249c44b45eab72c93a0\n",
      "  Stored in directory: c:\\users\\91940\\appdata\\local\\pip\\cache\\wheels\\22\\58\\cf\\093d0a6c3ecfdfc5f6ddd5524043b88e59a9a199cb02352966\n",
      "  Building wheel for compressed-rtf (setup.py): started\n",
      "  Building wheel for compressed-rtf (setup.py): finished with status 'done'\n",
      "  Created wheel for compressed-rtf: filename=compressed_rtf-1.0.6-py3-none-any.whl size=6212 sha256=71cf70f0ebee5078dc3cec4c4536684db6e5ecc21781be82de3c6e82c6c448df\n",
      "  Stored in directory: c:\\users\\91940\\appdata\\local\\pip\\cache\\wheels\\15\\3e\\48\\e7d833ecc516c36f8966d310b1a6386db091a718f1ff3bf85c\n",
      "Successfully built docx2txt compressed-rtf\n",
      "Installing collected packages: SpeechRecognition, sortedcontainers, ebcdic, docx2txt, compressed-rtf, chardet, argcomplete, XlsxWriter, xlrd, tzlocal, six, pycryptodome, olefile, beautifulsoup4, python-pptx, pdfminer.six, imapclient, extract-msg, textract\n",
      "  Attempting uninstall: six\n",
      "    Found existing installation: six 1.16.0\n",
      "    Uninstalling six-1.16.0:\n",
      "      Successfully uninstalled six-1.16.0\n",
      "  Attempting uninstall: beautifulsoup4\n",
      "    Found existing installation: beautifulsoup4 4.11.1\n",
      "    Uninstalling beautifulsoup4-4.11.1:\n",
      "      Successfully uninstalled beautifulsoup4-4.11.1\n",
      "Successfully installed SpeechRecognition-3.8.1 XlsxWriter-3.2.0 argcomplete-1.10.3 beautifulsoup4-4.8.2 chardet-3.0.4 compressed-rtf-1.0.6 docx2txt-0.8 ebcdic-1.1.1 extract-msg-0.28.7 imapclient-2.1.0 olefile-0.47 pdfminer.six-20191110 pycryptodome-3.20.0 python-pptx-0.6.23 six-1.12.0 sortedcontainers-2.4.0 textract-1.6.5 tzlocal-5.2 xlrd-1.2.0\n"
     ]
    },
    {
     "name": "stderr",
     "output_type": "stream",
     "text": [
      "WARNING: You are using pip version 22.0.4; however, version 24.0 is available.\n",
      "You should consider upgrading via the 'c:\\Users\\91940\\AppData\\Local\\Programs\\Python\\Python310\\python.exe -m pip install --upgrade pip' command.\n"
     ]
    }
   ],
   "source": [
    "%pip install textract"
   ]
  },
  {
   "cell_type": "code",
   "execution_count": 3,
   "id": "c7fe3bc7",
   "metadata": {},
   "outputs": [
    {
     "name": "stdout",
     "output_type": "stream",
     "text": [
      "Collecting PyPDF2\n",
      "  Downloading pypdf2-3.0.1-py3-none-any.whl (232 kB)\n",
      "     -------------------------------------- 232.6/232.6 KB 4.7 MB/s eta 0:00:00\n",
      "Installing collected packages: PyPDF2\n",
      "Successfully installed PyPDF2-3.0.1\n",
      "Note: you may need to restart the kernel to use updated packages.\n"
     ]
    },
    {
     "name": "stderr",
     "output_type": "stream",
     "text": [
      "WARNING: You are using pip version 22.0.4; however, version 24.0 is available.\n",
      "You should consider upgrading via the 'c:\\Users\\91940\\AppData\\Local\\Programs\\Python\\Python310\\python.exe -m pip install --upgrade pip' command.\n"
     ]
    }
   ],
   "source": [
    "%pip install PyPDF2"
   ]
  },
  {
   "cell_type": "code",
   "execution_count": 4,
   "id": "forty-directive",
   "metadata": {},
   "outputs": [],
   "source": [
    "import PyPDF2\n",
    "import textract\n",
    "import docx2txt"
   ]
  },
  {
   "cell_type": "code",
   "execution_count": 6,
   "id": "3c7b709e",
   "metadata": {},
   "outputs": [
    {
     "name": "stdout",
     "output_type": "stream",
     "text": [
      "Collecting matplotlib\n",
      "  Downloading matplotlib-3.8.4-cp310-cp310-win_amd64.whl (7.7 MB)\n",
      "     ---------------------------------------- 7.7/7.7 MB 5.6 MB/s eta 0:00:00\n",
      "Requirement already satisfied: packaging>=20.0 in c:\\users\\91940\\appdata\\local\\programs\\python\\python310\\lib\\site-packages (from matplotlib) (21.3)\n",
      "Requirement already satisfied: pyparsing>=2.3.1 in c:\\users\\91940\\appdata\\local\\programs\\python\\python310\\lib\\site-packages (from matplotlib) (3.0.8)\n",
      "Requirement already satisfied: python-dateutil>=2.7 in c:\\users\\91940\\appdata\\local\\programs\\python\\python310\\lib\\site-packages (from matplotlib) (2.8.2)\n",
      "Collecting cycler>=0.10\n",
      "  Downloading cycler-0.12.1-py3-none-any.whl (8.3 kB)\n",
      "Collecting contourpy>=1.0.1\n",
      "  Downloading contourpy-1.2.1-cp310-cp310-win_amd64.whl (187 kB)\n",
      "     -------------------------------------- 187.5/187.5 KB 5.5 MB/s eta 0:00:00\n",
      "Collecting kiwisolver>=1.3.1\n",
      "  Downloading kiwisolver-1.4.5-cp310-cp310-win_amd64.whl (56 kB)\n",
      "     ---------------------------------------- 56.1/56.1 KB ? eta 0:00:00\n",
      "Requirement already satisfied: numpy>=1.21 in c:\\users\\91940\\appdata\\local\\programs\\python\\python310\\lib\\site-packages (from matplotlib) (1.26.3)\n",
      "Requirement already satisfied: pillow>=8 in c:\\users\\91940\\appdata\\local\\programs\\python\\python310\\lib\\site-packages (from matplotlib) (10.3.0)\n",
      "Collecting fonttools>=4.22.0\n",
      "  Downloading fonttools-4.51.0-cp310-cp310-win_amd64.whl (2.2 MB)\n",
      "     ---------------------------------------- 2.2/2.2 MB 5.8 MB/s eta 0:00:00\n",
      "Requirement already satisfied: six>=1.5 in c:\\users\\91940\\appdata\\local\\programs\\python\\python310\\lib\\site-packages (from python-dateutil>=2.7->matplotlib) (1.12.0)\n",
      "Installing collected packages: kiwisolver, fonttools, cycler, contourpy, matplotlib\n",
      "Successfully installed contourpy-1.2.1 cycler-0.12.1 fonttools-4.51.0 kiwisolver-1.4.5 matplotlib-3.8.4\n",
      "Note: you may need to restart the kernel to use updated packages.\n"
     ]
    },
    {
     "name": "stderr",
     "output_type": "stream",
     "text": [
      "WARNING: You are using pip version 22.0.4; however, version 24.0 is available.\n",
      "You should consider upgrading via the 'c:\\Users\\91940\\AppData\\Local\\Programs\\Python\\Python310\\python.exe -m pip install --upgrade pip' command.\n"
     ]
    }
   ],
   "source": [
    "pip install matplotlib"
   ]
  },
  {
   "cell_type": "code",
   "execution_count": 7,
   "id": "equivalent-carolina",
   "metadata": {},
   "outputs": [],
   "source": [
    "import pandas as pd\n",
    "import matplotlib.pyplot as plt\n",
    "%matplotlib inline"
   ]
  },
  {
   "cell_type": "code",
   "execution_count": 8,
   "id": "incorporated-firewall",
   "metadata": {},
   "outputs": [],
   "source": [
    "from sklearn.metrics.pairwise import cosine_similarity\n",
    "from sklearn.feature_extraction.text import CountVectorizer "
   ]
  },
  {
   "cell_type": "markdown",
   "id": "stupid-topic",
   "metadata": {},
   "source": [
    "#### Resumes we are going to use during our analysis"
   ]
  },
  {
   "cell_type": "code",
   "execution_count": 11,
   "id": "leading-lottery",
   "metadata": {},
   "outputs": [
    {
     "ename": "PermissionError",
     "evalue": "[Errno 13] Permission denied: 'D:\\\\Sem 6\\\\Artificial Intelligence\\\\CP\\\\Resume-Analysis-using-NLP\\\\Resume'",
     "output_type": "error",
     "traceback": [
      "\u001b[1;31m---------------------------------------------------------------------------\u001b[0m",
      "\u001b[1;31mPermissionError\u001b[0m                           Traceback (most recent call last)",
      "Input \u001b[1;32mIn [11]\u001b[0m, in \u001b[0;36m<cell line: 1>\u001b[1;34m()\u001b[0m\n\u001b[1;32m----> 1\u001b[0m resume1\u001b[38;5;241m=\u001b[39m\u001b[43mdocx2txt\u001b[49m\u001b[38;5;241;43m.\u001b[39;49m\u001b[43mprocess\u001b[49m\u001b[43m(\u001b[49m\u001b[38;5;124;43m'\u001b[39;49m\u001b[38;5;124;43mD:\u001b[39;49m\u001b[38;5;124;43m\\\u001b[39;49m\u001b[38;5;124;43mSem 6\u001b[39;49m\u001b[38;5;124;43m\\\u001b[39;49m\u001b[38;5;124;43mArtificial Intelligence\u001b[39;49m\u001b[38;5;124;43m\\\u001b[39;49m\u001b[38;5;124;43mCP\u001b[39;49m\u001b[38;5;124;43m\\\u001b[39;49m\u001b[38;5;124;43mResume-Analysis-using-NLP\u001b[39;49m\u001b[38;5;124;43m\\\u001b[39;49m\u001b[38;5;124;43mResume\u001b[39;49m\u001b[38;5;124;43m'\u001b[39;49m\u001b[43m)\u001b[49m\n",
      "File \u001b[1;32mc:\\Users\\91940\\AppData\\Local\\Programs\\Python\\Python310\\lib\\site-packages\\docx2txt\\docx2txt.py:76\u001b[0m, in \u001b[0;36mprocess\u001b[1;34m(docx, img_dir)\u001b[0m\n\u001b[0;32m     73\u001b[0m text \u001b[38;5;241m=\u001b[39m \u001b[38;5;124mu\u001b[39m\u001b[38;5;124m'\u001b[39m\u001b[38;5;124m'\u001b[39m\n\u001b[0;32m     75\u001b[0m \u001b[38;5;66;03m# unzip the docx in memory\u001b[39;00m\n\u001b[1;32m---> 76\u001b[0m zipf \u001b[38;5;241m=\u001b[39m \u001b[43mzipfile\u001b[49m\u001b[38;5;241;43m.\u001b[39;49m\u001b[43mZipFile\u001b[49m\u001b[43m(\u001b[49m\u001b[43mdocx\u001b[49m\u001b[43m)\u001b[49m\n\u001b[0;32m     77\u001b[0m filelist \u001b[38;5;241m=\u001b[39m zipf\u001b[38;5;241m.\u001b[39mnamelist()\n\u001b[0;32m     79\u001b[0m \u001b[38;5;66;03m# get header text\u001b[39;00m\n\u001b[0;32m     80\u001b[0m \u001b[38;5;66;03m# there can be 3 header files in the zip\u001b[39;00m\n",
      "File \u001b[1;32mc:\\Users\\91940\\AppData\\Local\\Programs\\Python\\Python310\\lib\\zipfile.py:1249\u001b[0m, in \u001b[0;36mZipFile.__init__\u001b[1;34m(self, file, mode, compression, allowZip64, compresslevel, strict_timestamps)\u001b[0m\n\u001b[0;32m   1247\u001b[0m \u001b[38;5;28;01mwhile\u001b[39;00m \u001b[38;5;28;01mTrue\u001b[39;00m:\n\u001b[0;32m   1248\u001b[0m     \u001b[38;5;28;01mtry\u001b[39;00m:\n\u001b[1;32m-> 1249\u001b[0m         \u001b[38;5;28mself\u001b[39m\u001b[38;5;241m.\u001b[39mfp \u001b[38;5;241m=\u001b[39m \u001b[43mio\u001b[49m\u001b[38;5;241;43m.\u001b[39;49m\u001b[43mopen\u001b[49m\u001b[43m(\u001b[49m\u001b[43mfile\u001b[49m\u001b[43m,\u001b[49m\u001b[43m \u001b[49m\u001b[43mfilemode\u001b[49m\u001b[43m)\u001b[49m\n\u001b[0;32m   1250\u001b[0m     \u001b[38;5;28;01mexcept\u001b[39;00m \u001b[38;5;167;01mOSError\u001b[39;00m:\n\u001b[0;32m   1251\u001b[0m         \u001b[38;5;28;01mif\u001b[39;00m filemode \u001b[38;5;129;01min\u001b[39;00m modeDict:\n",
      "\u001b[1;31mPermissionError\u001b[0m: [Errno 13] Permission denied: 'D:\\\\Sem 6\\\\Artificial Intelligence\\\\CP\\\\Resume-Analysis-using-NLP\\\\Resume'"
     ]
    }
   ],
   "source": [
    "resume1=docx2txt.process('D:\\Sem 6\\Artificial Intelligence\\CP\\Resume-Analysis-using-NLP\\Resume')"
   ]
  },
  {
   "cell_type": "code",
   "execution_count": null,
   "id": "anticipated-chambers",
   "metadata": {},
   "outputs": [
    {
     "name": "stderr",
     "output_type": "stream",
     "text": [
      "<>:1: SyntaxWarning: invalid escape sequence '\\R'\n",
      "<>:1: SyntaxWarning: invalid escape sequence '\\R'\n",
      "C:\\Users\\padha\\AppData\\Local\\Temp\\ipykernel_10116\\4292712514.py:1: SyntaxWarning: invalid escape sequence '\\R'\n",
      "  resume2=docx2txt.process('D:\\ResumeShardulproj\\Resume-Analysis-using-NLP\\Resume\\senior-machine-learning-engineer-resume-example.docx')\n"
     ]
    }
   ],
   "source": [
    "resume2=docx2txt.process('D:\\ResumeShardulproj\\Resume-Analysis-using-NLP\\Resume\\senior-machine-learning-engineer-resume-example.docx')"
   ]
  },
  {
   "cell_type": "markdown",
   "id": "detected-exhaust",
   "metadata": {},
   "source": [
    "#### Job Description can be entered by the user"
   ]
  },
  {
   "cell_type": "code",
   "execution_count": null,
   "id": "89b8c138",
   "metadata": {},
   "outputs": [],
   "source": []
  },
  {
   "cell_type": "code",
   "execution_count": null,
   "id": "golden-counter",
   "metadata": {},
   "outputs": [],
   "source": [
    "#Prompt for the Job description.\n",
    "jd = input(\"Enter the job description: \")  "
   ]
  },
  {
   "cell_type": "markdown",
   "id": "surface-dancing",
   "metadata": {},
   "source": [
    "#### Function to get similarity score between resume and JD with the help of cosine similarity"
   ]
  },
  {
   "cell_type": "code",
   "execution_count": null,
   "id": "attractive-screening",
   "metadata": {},
   "outputs": [],
   "source": [
    "def get_similarity(resume, jd):\n",
    "    res = ''.join([i for i in resume if not i.isdigit()])\n",
    "    res_jd=[res, jd]\n",
    "    cntv = CountVectorizer()\n",
    "    count_matrix = cntv.fit_transform(res_jd)\n",
    "    percentage = round((cosine_similarity(count_matrix)[0][1] * 100),2)\n",
    "    return percentage"
   ]
  },
  {
   "cell_type": "markdown",
   "id": "parallel-voltage",
   "metadata": {},
   "source": [
    "#### Similarity score of first applicant"
   ]
  },
  {
   "cell_type": "code",
   "execution_count": null,
   "id": "rational-bahamas",
   "metadata": {},
   "outputs": [
    {
     "name": "stdout",
     "output_type": "stream",
     "text": [
      "\n",
      "Similarity Scores: between resume 1 and Job Description is  50.03\n"
     ]
    }
   ],
   "source": [
    "per1=get_similarity(resume1,jd)\n",
    "print(\"\\nSimilarity Scores: between resume 1 and Job Description is \",per1) "
   ]
  },
  {
   "cell_type": "markdown",
   "id": "diverse-cycling",
   "metadata": {},
   "source": [
    "#### Similarity score of second applicant"
   ]
  },
  {
   "cell_type": "code",
   "execution_count": null,
   "id": "invisible-warren",
   "metadata": {},
   "outputs": [
    {
     "name": "stdout",
     "output_type": "stream",
     "text": [
      "\n",
      "Similarity Scores: between resume 1 and Job Description is  28.54\n"
     ]
    }
   ],
   "source": [
    "per2=get_similarity(resume2,jd)\n",
    "print(\"\\nSimilarity Scores: between resume 1 and Job Description is \",per2) "
   ]
  },
  {
   "cell_type": "markdown",
   "id": "behavioral-article",
   "metadata": {},
   "source": [
    "#### Used Jaccard distance as a dissimmilarity measure to see how different the resume and JD are"
   ]
  },
  {
   "cell_type": "code",
   "execution_count": null,
   "id": "smoking-filename",
   "metadata": {},
   "outputs": [
    {
     "name": "stdout",
     "output_type": "stream",
     "text": [
      "\n",
      "  Jaccard  :   0.5466666666666666\n"
     ]
    }
   ],
   "source": [
    "def jaccard_distance(resume1,jd):\n",
    "    intersection=len(set.intersection(*[set(resume1),set(jd)]))\n",
    "    union=len(set.union(*[set(resume1),set(jd)]))\n",
    "    return intersection/float(union)\n",
    "b=jaccard_distance(resume1,jd) \n",
    "\n",
    "print('\\n  Jaccard  :  ', b)  "
   ]
  },
  {
   "cell_type": "markdown",
   "id": "stuffed-nursery",
   "metadata": {},
   "source": [
    "#### Function to do SpellCheker in the resume"
   ]
  },
  {
   "cell_type": "code",
   "execution_count": null,
   "id": "75c46723",
   "metadata": {},
   "outputs": [
    {
     "name": "stdout",
     "output_type": "stream",
     "text": [
      "Requirement already satisfied: spellchecker in c:\\users\\padha\\appdata\\local\\programs\\python\\python312\\lib\\site-packages (0.4)\n",
      "Requirement already satisfied: setuptools in c:\\users\\padha\\appdata\\local\\programs\\python\\python312\\lib\\site-packages (from spellchecker) (69.0.2)\n",
      "Requirement already satisfied: inexactsearch in c:\\users\\padha\\appdata\\local\\programs\\python\\python312\\lib\\site-packages (from spellchecker) (1.0.2)\n",
      "Requirement already satisfied: soundex>=1.0 in c:\\users\\padha\\appdata\\local\\programs\\python\\python312\\lib\\site-packages (from inexactsearch->spellchecker) (1.1.3)\n",
      "Requirement already satisfied: silpa-common>=0.3 in c:\\users\\padha\\appdata\\local\\programs\\python\\python312\\lib\\site-packages (from inexactsearch->spellchecker) (0.3)\n",
      "Note: you may need to restart the kernel to use updated packages.\n"
     ]
    },
    {
     "name": "stderr",
     "output_type": "stream",
     "text": [
      "DEPRECATION: textract 1.6.5 has a non-standard dependency specifier extract-msg<=0.29.*. pip 24.1 will enforce this behaviour change. A possible replacement is to upgrade to a newer version of textract or contact the author to suggest that they release a version with a conforming dependency specifiers. Discussion can be found at https://github.com/pypa/pip/issues/12063\n"
     ]
    }
   ],
   "source": [
    "%pip install spellchecker"
   ]
  },
  {
   "cell_type": "code",
   "execution_count": null,
   "id": "c91e2fa2",
   "metadata": {},
   "outputs": [
    {
     "name": "stdout",
     "output_type": "stream",
     "text": [
      "Requirement already satisfied: pyspellchecker in c:\\users\\padha\\appdata\\local\\programs\\python\\python312\\lib\\site-packages (0.8.1)Note: you may need to restart the kernel to use updated packages.\n",
      "\n"
     ]
    },
    {
     "name": "stderr",
     "output_type": "stream",
     "text": [
      "DEPRECATION: textract 1.6.5 has a non-standard dependency specifier extract-msg<=0.29.*. pip 24.1 will enforce this behaviour change. A possible replacement is to upgrade to a newer version of textract or contact the author to suggest that they release a version with a conforming dependency specifiers. Discussion can be found at https://github.com/pypa/pip/issues/12063\n"
     ]
    }
   ],
   "source": [
    "%pip install pyspellchecker\n"
   ]
  },
  {
   "cell_type": "code",
   "execution_count": null,
   "id": "6d0c37eb",
   "metadata": {},
   "outputs": [
    {
     "name": "stdout",
     "output_type": "stream",
     "text": [
      "Name: spellchecker\n",
      "Version: 0.4\n",
      "Summary: Indian Language Spellchecker Library\n",
      "Home-page: http://silpa.org.in/Spellchecker\n",
      "Author: Santhosh Thottingal\n",
      "Author-email: santhosh.thottingal@gmail.com\n",
      "License: LGPL-3.0\n",
      "Location: c:\\Users\\padha\\AppData\\Local\\Programs\\Python\\Python312\\Lib\\site-packages\n",
      "Requires: inexactsearch, setuptools\n",
      "Required-by: \n",
      "Note: you may need to restart the kernel to use updated packages.\n"
     ]
    }
   ],
   "source": [
    "%pip show spellchecker"
   ]
  },
  {
   "cell_type": "code",
   "execution_count": null,
   "id": "final-dubai",
   "metadata": {},
   "outputs": [],
   "source": [
    "from spellchecker import SpellChecker\n",
    "spell = SpellChecker()"
   ]
  },
  {
   "cell_type": "code",
   "execution_count": null,
   "id": "departmental-floating",
   "metadata": {},
   "outputs": [],
   "source": [
    "def spell_check(list):\n",
    "    spell_mistake= False\n",
    "    for i in list:\n",
    "        if i.isalpha()==True:\n",
    "            if i[0].isupper():\n",
    "                exit\n",
    "            else:\n",
    "                i=i.lower()\n",
    "                word=spell.correction(i)\n",
    "                if i!= word:\n",
    "                    print('wrong spelling: ',i,'\\nSuggestions are as follow :',word)\n",
    "                    spell_mistake= True\n",
    "    if spell_mistake==False:\n",
    "        print('No spelling mistakes, good to go..') "
   ]
  },
  {
   "cell_type": "code",
   "execution_count": null,
   "id": "straight-thinking",
   "metadata": {},
   "outputs": [],
   "source": [
    "word = resume1.split()"
   ]
  },
  {
   "cell_type": "code",
   "execution_count": null,
   "id": "descending-testing",
   "metadata": {
    "scrolled": true
   },
   "outputs": [
    {
     "name": "stdout",
     "output_type": "stream",
     "text": [
      "wrong spelling:  cybersecurity \n",
      "Suggestions are as follow : None\n",
      "wrong spelling:  bioinformaticians \n",
      "Suggestions are as follow : None\n",
      "wrong spelling:  preprocess \n",
      "Suggestions are as follow : reprocess\n",
      "wrong spelling:  preprocessing \n",
      "Suggestions are as follow : reprocessing\n",
      "wrong spelling:  dataset \n",
      "Suggestions are as follow : None\n",
      "wrong spelling:  apps \n",
      "Suggestions are as follow : apes\n",
      "wrong spelling:  speciﬁc \n",
      "Suggestions are as follow : special\n"
     ]
    }
   ],
   "source": [
    "spell_check(word)"
   ]
  },
  {
   "cell_type": "markdown",
   "id": "appropriate-highlight",
   "metadata": {},
   "source": [
    "### Part - 2 Summarizing Resume and Finding Important Keywords"
   ]
  },
  {
   "cell_type": "markdown",
   "id": "complex-maple",
   "metadata": {},
   "source": [
    "#### Libraries required for summarizing the resume"
   ]
  },
  {
   "cell_type": "code",
   "execution_count": null,
   "id": "7c40158d",
   "metadata": {},
   "outputs": [
    {
     "name": "stdout",
     "output_type": "stream",
     "text": [
      "Requirement already satisfied: gensim in c:\\users\\padha\\appdata\\local\\programs\\python\\python312\\lib\\site-packages (4.3.2)\n",
      "Requirement already satisfied: numpy>=1.18.5 in c:\\users\\padha\\appdata\\local\\programs\\python\\python312\\lib\\site-packages (from gensim) (1.26.0)\n",
      "Requirement already satisfied: scipy>=1.7.0 in c:\\users\\padha\\appdata\\local\\programs\\python\\python312\\lib\\site-packages (from gensim) (1.11.3)\n",
      "Requirement already satisfied: smart-open>=1.8.1 in c:\\users\\padha\\appdata\\local\\programs\\python\\python312\\lib\\site-packages (from gensim) (6.4.0)\n",
      "Note: you may need to restart the kernel to use updated packages.\n"
     ]
    },
    {
     "name": "stderr",
     "output_type": "stream",
     "text": [
      "DEPRECATION: textract 1.6.5 has a non-standard dependency specifier extract-msg<=0.29.*. pip 24.1 will enforce this behaviour change. A possible replacement is to upgrade to a newer version of textract or contact the author to suggest that they release a version with a conforming dependency specifiers. Discussion can be found at https://github.com/pypa/pip/issues/12063\n"
     ]
    }
   ],
   "source": [
    "%pip install gensim"
   ]
  },
  {
   "cell_type": "code",
   "execution_count": null,
   "id": "disciplinary-expense",
   "metadata": {},
   "outputs": [],
   "source": [
    "# from gensim.summarization.summarizer import summarize\n",
    "# from gensim.summarization import keywords"
   ]
  },
  {
   "cell_type": "markdown",
   "id": "pacific-aquatic",
   "metadata": {},
   "source": [
    "#### Summarizing resume"
   ]
  },
  {
   "cell_type": "markdown",
   "id": "66ed58f0",
   "metadata": {},
   "source": [
    "%pip install sumy\n"
   ]
  },
  {
   "cell_type": "code",
   "execution_count": null,
   "id": "9175c82c",
   "metadata": {},
   "outputs": [
    {
     "name": "stdout",
     "output_type": "stream",
     "text": [
      "Collecting sumy\n",
      "  Downloading sumy-0.11.0-py2.py3-none-any.whl.metadata (7.5 kB)\n",
      "Collecting docopt<0.7,>=0.6.1 (from sumy)\n",
      "  Downloading docopt-0.6.2.tar.gz (25 kB)\n",
      "  Preparing metadata (setup.py): started\n",
      "  Preparing metadata (setup.py): finished with status 'done'\n",
      "Collecting breadability>=0.1.20 (from sumy)\n",
      "  Downloading breadability-0.1.20.tar.gz (32 kB)\n",
      "  Preparing metadata (setup.py): started\n",
      "  Preparing metadata (setup.py): finished with status 'done'\n",
      "Requirement already satisfied: requests>=2.7.0 in c:\\users\\padha\\appdata\\local\\programs\\python\\python312\\lib\\site-packages (from sumy) (2.31.0)\n",
      "Collecting pycountry>=18.2.23 (from sumy)\n",
      "  Downloading pycountry-23.12.11-py3-none-any.whl.metadata (12 kB)\n",
      "Requirement already satisfied: nltk>=3.0.2 in c:\\users\\padha\\appdata\\local\\programs\\python\\python312\\lib\\site-packages (from sumy) (3.8.1)\n",
      "Requirement already satisfied: chardet in c:\\users\\padha\\appdata\\local\\programs\\python\\python312\\lib\\site-packages (from breadability>=0.1.20->sumy) (3.0.4)\n",
      "Requirement already satisfied: lxml>=2.0 in c:\\users\\padha\\appdata\\local\\programs\\python\\python312\\lib\\site-packages (from breadability>=0.1.20->sumy) (5.2.1)\n",
      "Requirement already satisfied: click in c:\\users\\padha\\appdata\\local\\programs\\python\\python312\\lib\\site-packages (from nltk>=3.0.2->sumy) (8.1.7)\n",
      "Requirement already satisfied: joblib in c:\\users\\padha\\appdata\\local\\programs\\python\\python312\\lib\\site-packages (from nltk>=3.0.2->sumy) (1.3.2)\n",
      "Requirement already satisfied: regex>=2021.8.3 in c:\\users\\padha\\appdata\\local\\programs\\python\\python312\\lib\\site-packages (from nltk>=3.0.2->sumy) (2023.10.3)\n",
      "Requirement already satisfied: tqdm in c:\\users\\padha\\appdata\\local\\programs\\python\\python312\\lib\\site-packages (from nltk>=3.0.2->sumy) (4.66.1)\n",
      "Requirement already satisfied: charset-normalizer<4,>=2 in c:\\users\\padha\\appdata\\local\\programs\\python\\python312\\lib\\site-packages (from requests>=2.7.0->sumy) (3.3.0)\n",
      "Requirement already satisfied: idna<4,>=2.5 in c:\\users\\padha\\appdata\\local\\programs\\python\\python312\\lib\\site-packages (from requests>=2.7.0->sumy) (3.4)\n",
      "Requirement already satisfied: urllib3<3,>=1.21.1 in c:\\users\\padha\\appdata\\local\\programs\\python\\python312\\lib\\site-packages (from requests>=2.7.0->sumy) (2.0.6)\n",
      "Requirement already satisfied: certifi>=2017.4.17 in c:\\users\\padha\\appdata\\local\\programs\\python\\python312\\lib\\site-packages (from requests>=2.7.0->sumy) (2023.7.22)\n",
      "Requirement already satisfied: colorama in c:\\users\\padha\\appdata\\roaming\\python\\python312\\site-packages (from click->nltk>=3.0.2->sumy) (0.4.6)\n",
      "Downloading sumy-0.11.0-py2.py3-none-any.whl (97 kB)\n",
      "   ---------------------------------------- 0.0/97.3 kB ? eta -:--:--\n",
      "   ------------------------- -------------- 61.4/97.3 kB 1.7 MB/s eta 0:00:01\n",
      "   ---------------------------------------- 97.3/97.3 kB 1.1 MB/s eta 0:00:00\n",
      "Downloading pycountry-23.12.11-py3-none-any.whl (6.2 MB)\n",
      "   ---------------------------------------- 0.0/6.2 MB ? eta -:--:--\n",
      "   - -------------------------------------- 0.3/6.2 MB 8.0 MB/s eta 0:00:01\n",
      "   --- ------------------------------------ 0.5/6.2 MB 6.0 MB/s eta 0:00:01\n",
      "   --------- ------------------------------ 1.5/6.2 MB 10.4 MB/s eta 0:00:01\n",
      "   --------------- ------------------------ 2.4/6.2 MB 11.7 MB/s eta 0:00:01\n",
      "   --------------------- ------------------ 3.3/6.2 MB 13.3 MB/s eta 0:00:01\n",
      "   ----------------------------- ---------- 4.6/6.2 MB 15.5 MB/s eta 0:00:01\n",
      "   ------------------------------------ --- 5.7/6.2 MB 16.5 MB/s eta 0:00:01\n",
      "   ---------------------------------------  6.2/6.2 MB 16.5 MB/s eta 0:00:01\n",
      "   ---------------------------------------- 6.2/6.2 MB 14.7 MB/s eta 0:00:00\n",
      "Building wheels for collected packages: breadability, docopt\n",
      "  Building wheel for breadability (setup.py): started\n",
      "  Building wheel for breadability (setup.py): finished with status 'done'\n",
      "  Created wheel for breadability: filename=breadability-0.1.20-py2.py3-none-any.whl size=21738 sha256=ba285d07bdf4158669b775abc6ea738cec756957fdb8223a7255450ae3d799b7\n",
      "  Stored in directory: c:\\users\\padha\\appdata\\local\\pip\\cache\\wheels\\32\\99\\64\\59305409cacd03aa03e7bddf31a9db34b1fa7033bd41972662\n",
      "  Building wheel for docopt (setup.py): started\n",
      "  Building wheel for docopt (setup.py): finished with status 'done'\n",
      "  Created wheel for docopt: filename=docopt-0.6.2-py2.py3-none-any.whl size=13774 sha256=ffa7560a97d1faa92cec96af61455b3ed5fc6b4d87e50e6fe86b850f4d9d030d\n",
      "  Stored in directory: c:\\users\\padha\\appdata\\local\\pip\\cache\\wheels\\1a\\bf\\a1\\4cee4f7678c68c5875ca89eaccf460593539805c3906722228\n",
      "Successfully built breadability docopt\n",
      "Installing collected packages: docopt, pycountry, breadability, sumy\n",
      "Successfully installed breadability-0.1.20 docopt-0.6.2 pycountry-23.12.11 sumy-0.11.0\n",
      "Note: you may need to restart the kernel to use updated packages.\n"
     ]
    },
    {
     "name": "stderr",
     "output_type": "stream",
     "text": [
      "DEPRECATION: textract 1.6.5 has a non-standard dependency specifier extract-msg<=0.29.*. pip 24.1 will enforce this behaviour change. A possible replacement is to upgrade to a newer version of textract or contact the author to suggest that they release a version with a conforming dependency specifiers. Discussion can be found at https://github.com/pypa/pip/issues/12063\n"
     ]
    }
   ],
   "source": [
    "%pip install sumy\n"
   ]
  },
  {
   "cell_type": "code",
   "execution_count": null,
   "id": "66328c7e",
   "metadata": {},
   "outputs": [
    {
     "name": "stdout",
     "output_type": "stream",
     "text": [
      "Aspiring machine learning intern seeking a role in Duo Security, where I can use my expertise in data entry and project contributions to improve object recognition accuracy.\n",
      "Designed automated data validation scripts in Python with Pandas, reducing manual error checks by 72% and accelerating the speed of data entry by 29%.\n",
      "Built interactive Jupyter notebooks with embedded code cells for real-time model demonstrations in class.\n",
      "Created data visualizations using Matplotlib to illustrate the project's dataset distribution.\n",
      "Conducted weekly one-on-one training sessions, resulting in a 94% improvement rate in seniors' ability to make calls, send texts, and use apps as per feedback.\n",
      "Led Microsoft Ofﬁce workshops for seniors interested in acquiring more specialized skills, such as mail merge and pivot tables, aligning to their speciﬁc needs.\n",
      "Assisted seniors in setting up 27 email accounts, helping them communicate with family and friends online.\n",
      "Supported 11 seniors in setting up their Google Workspace account, including strong password creation and two-factor authentication, enhancing their online security.\n",
      "Microsoft Ofﬁce; Google Workspace; Jupyter; Matplotlib; Pandas; TensorFlow\n"
     ]
    }
   ],
   "source": [
    "from sumy.parsers.plaintext import PlaintextParser\n",
    "from sumy.nlp.tokenizers import Tokenizer\n",
    "from sumy.summarizers.lsa import LsaSummarizer\n",
    "\n",
    "# Convert resume1 to string\n",
    "text_resume = str(resume1)\n",
    "\n",
    "# Initialize the parser\n",
    "parser = PlaintextParser.from_string(text_resume, Tokenizer(\"english\"))\n",
    "\n",
    "# Initialize the summarizer\n",
    "summarizer = LsaSummarizer()\n",
    "\n",
    "# Summarize the resume\n",
    "resume_summary = summarizer(parser.document, sentences_count=9)  # Adjust the number of sentences as needed\n",
    "\n",
    "# Print the summarized resume\n",
    "for sentence in resume_summary:\n",
    "    print(sentence)\n"
   ]
  },
  {
   "cell_type": "code",
   "execution_count": null,
   "id": "passive-acting",
   "metadata": {},
   "outputs": [
    {
     "name": "stdout",
     "output_type": "stream",
     "text": [
      "Highly determined Data Science graduate having 2+ years of experience using Machine Learning and NLP to solve challenging business problems.\n",
      "Strong proficiency in R, Python, SQL, and Tableau using which I have leveraged large-scale real-time data in making impactful business decisions.\n",
      "Software Tools\t: Big Data(Hadoop, Spark, Map Reduce, HBase), MS Excel, MySQL, R, Scikit-learn \n",
      "Analytics/Visualization : Statistics, Machine Learning, Text Mining (NLP), Deep Learning, Tableau, Power BI, Time Series Analysis\n",
      "Academic Courses         : Data Mining, Statistical Analysis, Machine Learning, Cloud Computing, Data Visualization, Advanced Text Mining \n"
     ]
    }
   ],
   "source": [
    "# text_resume = str(resume1)\n",
    "# resume = summarize(text_resume, ratio=0.1)\n",
    "# print(resume)"
   ]
  },
  {
   "cell_type": "markdown",
   "id": "later-exclusive",
   "metadata": {},
   "source": [
    "#### Performed feature extraction with the help of count vectorizer"
   ]
  },
  {
   "cell_type": "code",
   "execution_count": null,
   "id": "renewable-flood",
   "metadata": {},
   "outputs": [],
   "source": [
    "text_list = [resume_summary, jd]  # Assuming 'jd' represents the job description\n",
    "text_list = [str(text) for text in text_list]  # Convert each element to string\n",
    "from sklearn.feature_extraction.text import CountVectorizer\n",
    "\n",
    "cv = CountVectorizer()\n",
    "count_matrix = cv.fit_transform(text_list)\n"
   ]
  },
  {
   "cell_type": "code",
   "execution_count": null,
   "id": "beneficial-treasury",
   "metadata": {},
   "outputs": [
    {
     "data": {
      "text/plain": [
       "<2x172 sparse matrix of type '<class 'numpy.int64'>'\n",
       "\twith 185 stored elements in Compressed Sparse Row format>"
      ]
     },
     "execution_count": 56,
     "metadata": {},
     "output_type": "execute_result"
    }
   ],
   "source": [
    "count_matrix"
   ]
  },
  {
   "cell_type": "code",
   "execution_count": null,
   "id": "medieval-cleaners",
   "metadata": {},
   "outputs": [
    {
     "name": "stdout",
     "output_type": "stream",
     "text": [
      "[[1.         0.38615095]\n",
      " [0.38615095 1.        ]]\n"
     ]
    }
   ],
   "source": [
    "from sklearn.metrics.pairwise import cosine_similarity\n",
    "matchPercentage = cosine_similarity(count_matrix)\n",
    "print(matchPercentage)"
   ]
  },
  {
   "cell_type": "code",
   "execution_count": null,
   "id": "backed-memphis",
   "metadata": {},
   "outputs": [
    {
     "name": "stdout",
     "output_type": "stream",
     "text": [
      "Your resume matches about 38.62% of the job description.\n"
     ]
    }
   ],
   "source": [
    "# get the match percentage\n",
    "matchPercentage = cosine_similarity(count_matrix)[0][1] * 100\n",
    "matchPercentage = round(matchPercentage, 2) \n",
    "print(\"Your resume matches about \"+ str(matchPercentage)+ \"% of the job description.\")"
   ]
  },
  {
   "cell_type": "markdown",
   "id": "binary-jewelry",
   "metadata": {},
   "source": [
    "#### Extracted important keywords from JD and resume "
   ]
  },
  {
   "cell_type": "code",
   "execution_count": null,
   "id": "bd3a9422",
   "metadata": {},
   "outputs": [
    {
     "name": "stdout",
     "output_type": "stream",
     "text": [
      "Collecting gensim==3.8.3Note: you may need to restart the kernel to use updated packages.\n"
     ]
    },
    {
     "name": "stderr",
     "output_type": "stream",
     "text": [
      "  error: subprocess-exited-with-error\n",
      "  \n",
      "  × python setup.py bdist_wheel did not run successfully.\n",
      "  │ exit code: 1\n",
      "  ╰─> [753 lines of output]\n",
      "      c:\\Users\\padha\\AppData\\Local\\Programs\\Python\\Python312\\Lib\\site-packages\\setuptools\\__init__.py:80: _DeprecatedInstaller: setuptools.installer and fetch_build_eggs are deprecated.\n",
      "      !!\n",
      "      \n",
      "              ********************************************************************************\n",
      "              Requirements should be satisfied by a PEP 517 installer.\n",
      "              If you are using pip, you can try `pip install --use-pep517`.\n",
      "              ********************************************************************************\n",
      "      \n",
      "      !!\n",
      "        dist.fetch_build_eggs(dist.setup_requires)\n",
      "      running bdist_wheel\n",
      "      running build\n",
      "      running build_py\n",
      "      creating build\n",
      "      creating build\\lib.win-amd64-cpython-312\n",
      "      creating build\\lib.win-amd64-cpython-312\\gensim\n",
      "      copying gensim\\downloader.py -> build\\lib.win-amd64-cpython-312\\gensim\n",
      "      copying gensim\\interfaces.py -> build\\lib.win-amd64-cpython-312\\gensim\n",
      "      copying gensim\\matutils.py -> build\\lib.win-amd64-cpython-312\\gensim\n",
      "      copying gensim\\nosy.py -> build\\lib.win-amd64-cpython-312\\gensim\n",
      "      copying gensim\\utils.py -> build\\lib.win-amd64-cpython-312\\gensim\n",
      "      copying gensim\\__init__.py -> build\\lib.win-amd64-cpython-312\\gensim\n",
      "      creating build\\lib.win-amd64-cpython-312\\gensim\\corpora\n",
      "      copying gensim\\corpora\\bleicorpus.py -> build\\lib.win-amd64-cpython-312\\gensim\\corpora\n",
      "      copying gensim\\corpora\\csvcorpus.py -> build\\lib.win-amd64-cpython-312\\gensim\\corpora\n",
      "      copying gensim\\corpora\\dictionary.py -> build\\lib.win-amd64-cpython-312\\gensim\\corpora\n",
      "      copying gensim\\corpora\\hashdictionary.py -> build\\lib.win-amd64-cpython-312\\gensim\\corpora\n",
      "      copying gensim\\corpora\\indexedcorpus.py -> build\\lib.win-amd64-cpython-312\\gensim\\corpora\n",
      "      copying gensim\\corpora\\lowcorpus.py -> build\\lib.win-amd64-cpython-312\\gensim\\corpora\n",
      "      copying gensim\\corpora\\malletcorpus.py -> build\\lib.win-amd64-cpython-312\\gensim\\corpora\n",
      "      copying gensim\\corpora\\mmcorpus.py -> build\\lib.win-amd64-cpython-312\\gensim\\corpora\n",
      "      copying gensim\\corpora\\sharded_corpus.py -> build\\lib.win-amd64-cpython-312\\gensim\\corpora\n",
      "      copying gensim\\corpora\\svmlightcorpus.py -> build\\lib.win-amd64-cpython-312\\gensim\\corpora\n",
      "      copying gensim\\corpora\\textcorpus.py -> build\\lib.win-amd64-cpython-312\\gensim\\corpora\n",
      "      copying gensim\\corpora\\ucicorpus.py -> build\\lib.win-amd64-cpython-312\\gensim\\corpora\n",
      "      copying gensim\\corpora\\wikicorpus.py -> build\\lib.win-amd64-cpython-312\\gensim\\corpora\n",
      "      copying gensim\\corpora\\__init__.py -> build\\lib.win-amd64-cpython-312\\gensim\\corpora\n",
      "      creating build\\lib.win-amd64-cpython-312\\gensim\\models\n",
      "      copying gensim\\models\\atmodel.py -> build\\lib.win-amd64-cpython-312\\gensim\\models\n",
      "      copying gensim\\models\\basemodel.py -> build\\lib.win-amd64-cpython-312\\gensim\\models\n",
      "      copying gensim\\models\\base_any2vec.py -> build\\lib.win-amd64-cpython-312\\gensim\\models\n",
      "      copying gensim\\models\\callbacks.py -> build\\lib.win-amd64-cpython-312\\gensim\\models\n",
      "      copying gensim\\models\\coherencemodel.py -> build\\lib.win-amd64-cpython-312\\gensim\\models\n",
      "      copying gensim\\models\\doc2vec.py -> build\\lib.win-amd64-cpython-312\\gensim\\models\n",
      "      copying gensim\\models\\fasttext.py -> build\\lib.win-amd64-cpython-312\\gensim\\models\n",
      "      copying gensim\\models\\hdpmodel.py -> build\\lib.win-amd64-cpython-312\\gensim\\models\n",
      "      copying gensim\\models\\keyedvectors.py -> build\\lib.win-amd64-cpython-312\\gensim\\models\n",
      "      copying gensim\\models\\ldamodel.py -> build\\lib.win-amd64-cpython-312\\gensim\\models\n",
      "      copying gensim\\models\\ldamulticore.py -> build\\lib.win-amd64-cpython-312\\gensim\\models\n",
      "      copying gensim\\models\\ldaseqmodel.py -> build\\lib.win-amd64-cpython-312\\gensim\\models\n",
      "      copying gensim\\models\\lda_dispatcher.py -> build\\lib.win-amd64-cpython-312\\gensim\\models\n",
      "      copying gensim\\models\\lda_worker.py -> build\\lib.win-amd64-cpython-312\\gensim\\models\n",
      "      copying gensim\\models\\logentropy_model.py -> build\\lib.win-amd64-cpython-312\\gensim\\models\n",
      "      copying gensim\\models\\lsimodel.py -> build\\lib.win-amd64-cpython-312\\gensim\\models\n",
      "      copying gensim\\models\\lsi_dispatcher.py -> build\\lib.win-amd64-cpython-312\\gensim\\models\n",
      "      copying gensim\\models\\lsi_worker.py -> build\\lib.win-amd64-cpython-312\\gensim\\models\n",
      "      copying gensim\\models\\nmf.py -> build\\lib.win-amd64-cpython-312\\gensim\\models\n",
      "      copying gensim\\models\\normmodel.py -> build\\lib.win-amd64-cpython-312\\gensim\\models\n",
      "      copying gensim\\models\\phrases.py -> build\\lib.win-amd64-cpython-312\\gensim\\models\n",
      "      copying gensim\\models\\poincare.py -> build\\lib.win-amd64-cpython-312\\gensim\\models\n",
      "      copying gensim\\models\\rpmodel.py -> build\\lib.win-amd64-cpython-312\\gensim\\models\n",
      "      copying gensim\\models\\tfidfmodel.py -> build\\lib.win-amd64-cpython-312\\gensim\\models\n",
      "      copying gensim\\models\\translation_matrix.py -> build\\lib.win-amd64-cpython-312\\gensim\\models\n",
      "      copying gensim\\models\\utils_any2vec.py -> build\\lib.win-amd64-cpython-312\\gensim\\models\n",
      "      copying gensim\\models\\word2vec.py -> build\\lib.win-amd64-cpython-312\\gensim\\models\n",
      "      copying gensim\\models\\_fasttext_bin.py -> build\\lib.win-amd64-cpython-312\\gensim\\models\n",
      "      copying gensim\\models\\__init__.py -> build\\lib.win-amd64-cpython-312\\gensim\\models\n",
      "      creating build\\lib.win-amd64-cpython-312\\gensim\\parsing\n",
      "      copying gensim\\parsing\\porter.py -> build\\lib.win-amd64-cpython-312\\gensim\\parsing\n",
      "      copying gensim\\parsing\\preprocessing.py -> build\\lib.win-amd64-cpython-312\\gensim\\parsing\n",
      "      copying gensim\\parsing\\__init__.py -> build\\lib.win-amd64-cpython-312\\gensim\\parsing\n",
      "      creating build\\lib.win-amd64-cpython-312\\gensim\\scripts\n",
      "      copying gensim\\scripts\\glove2word2vec.py -> build\\lib.win-amd64-cpython-312\\gensim\\scripts\n",
      "      copying gensim\\scripts\\make_wiki.py -> build\\lib.win-amd64-cpython-312\\gensim\\scripts\n",
      "      copying gensim\\scripts\\make_wikicorpus.py -> build\\lib.win-amd64-cpython-312\\gensim\\scripts\n",
      "      copying gensim\\scripts\\make_wiki_lemma.py -> build\\lib.win-amd64-cpython-312\\gensim\\scripts\n",
      "      copying gensim\\scripts\\make_wiki_online.py -> build\\lib.win-amd64-cpython-312\\gensim\\scripts\n",
      "      copying gensim\\scripts\\make_wiki_online_lemma.py -> build\\lib.win-amd64-cpython-312\\gensim\\scripts\n",
      "      copying gensim\\scripts\\make_wiki_online_nodebug.py -> build\\lib.win-amd64-cpython-312\\gensim\\scripts\n",
      "      copying gensim\\scripts\\package_info.py -> build\\lib.win-amd64-cpython-312\\gensim\\scripts\n",
      "      copying gensim\\scripts\\segment_wiki.py -> build\\lib.win-amd64-cpython-312\\gensim\\scripts\n",
      "      copying gensim\\scripts\\word2vec2tensor.py -> build\\lib.win-amd64-cpython-312\\gensim\\scripts\n",
      "      copying gensim\\scripts\\word2vec_standalone.py -> build\\lib.win-amd64-cpython-312\\gensim\\scripts\n",
      "      copying gensim\\scripts\\__init__.py -> build\\lib.win-amd64-cpython-312\\gensim\\scripts\n",
      "      creating build\\lib.win-amd64-cpython-312\\gensim\\similarities\n",
      "      copying gensim\\similarities\\docsim.py -> build\\lib.win-amd64-cpython-312\\gensim\\similarities\n",
      "      copying gensim\\similarities\\index.py -> build\\lib.win-amd64-cpython-312\\gensim\\similarities\n",
      "      copying gensim\\similarities\\levenshtein.py -> build\\lib.win-amd64-cpython-312\\gensim\\similarities\n",
      "      copying gensim\\similarities\\nmslib.py -> build\\lib.win-amd64-cpython-312\\gensim\\similarities\n",
      "      copying gensim\\similarities\\termsim.py -> build\\lib.win-amd64-cpython-312\\gensim\\similarities\n",
      "      copying gensim\\similarities\\__init__.py -> build\\lib.win-amd64-cpython-312\\gensim\\similarities\n",
      "      creating build\\lib.win-amd64-cpython-312\\gensim\\sklearn_api\n",
      "      copying gensim\\sklearn_api\\atmodel.py -> build\\lib.win-amd64-cpython-312\\gensim\\sklearn_api\n",
      "      copying gensim\\sklearn_api\\d2vmodel.py -> build\\lib.win-amd64-cpython-312\\gensim\\sklearn_api\n",
      "      copying gensim\\sklearn_api\\ftmodel.py -> build\\lib.win-amd64-cpython-312\\gensim\\sklearn_api\n",
      "      copying gensim\\sklearn_api\\hdp.py -> build\\lib.win-amd64-cpython-312\\gensim\\sklearn_api\n",
      "      copying gensim\\sklearn_api\\ldamodel.py -> build\\lib.win-amd64-cpython-312\\gensim\\sklearn_api\n",
      "      copying gensim\\sklearn_api\\ldaseqmodel.py -> build\\lib.win-amd64-cpython-312\\gensim\\sklearn_api\n",
      "      copying gensim\\sklearn_api\\lsimodel.py -> build\\lib.win-amd64-cpython-312\\gensim\\sklearn_api\n",
      "      copying gensim\\sklearn_api\\phrases.py -> build\\lib.win-amd64-cpython-312\\gensim\\sklearn_api\n",
      "      copying gensim\\sklearn_api\\rpmodel.py -> build\\lib.win-amd64-cpython-312\\gensim\\sklearn_api\n",
      "      copying gensim\\sklearn_api\\text2bow.py -> build\\lib.win-amd64-cpython-312\\gensim\\sklearn_api\n",
      "      copying gensim\\sklearn_api\\tfidf.py -> build\\lib.win-amd64-cpython-312\\gensim\\sklearn_api\n",
      "      copying gensim\\sklearn_api\\w2vmodel.py -> build\\lib.win-amd64-cpython-312\\gensim\\sklearn_api\n",
      "      copying gensim\\sklearn_api\\__init__.py -> build\\lib.win-amd64-cpython-312\\gensim\\sklearn_api\n",
      "      creating build\\lib.win-amd64-cpython-312\\gensim\\summarization\n",
      "      copying gensim\\summarization\\bm25.py -> build\\lib.win-amd64-cpython-312\\gensim\\summarization\n",
      "      copying gensim\\summarization\\commons.py -> build\\lib.win-amd64-cpython-312\\gensim\\summarization\n",
      "      copying gensim\\summarization\\graph.py -> build\\lib.win-amd64-cpython-312\\gensim\\summarization\n",
      "      copying gensim\\summarization\\keywords.py -> build\\lib.win-amd64-cpython-312\\gensim\\summarization\n",
      "      copying gensim\\summarization\\mz_entropy.py -> build\\lib.win-amd64-cpython-312\\gensim\\summarization\n",
      "      copying gensim\\summarization\\pagerank_weighted.py -> build\\lib.win-amd64-cpython-312\\gensim\\summarization\n",
      "      copying gensim\\summarization\\summarizer.py -> build\\lib.win-amd64-cpython-312\\gensim\\summarization\n",
      "      copying gensim\\summarization\\syntactic_unit.py -> build\\lib.win-amd64-cpython-312\\gensim\\summarization\n",
      "      copying gensim\\summarization\\textcleaner.py -> build\\lib.win-amd64-cpython-312\\gensim\\summarization\n",
      "      copying gensim\\summarization\\__init__.py -> build\\lib.win-amd64-cpython-312\\gensim\\summarization\n",
      "      creating build\\lib.win-amd64-cpython-312\\gensim\\test\n",
      "      copying gensim\\test\\basetmtests.py -> build\\lib.win-amd64-cpython-312\\gensim\\test\n",
      "      copying gensim\\test\\simspeed.py -> build\\lib.win-amd64-cpython-312\\gensim\\test\n",
      "      copying gensim\\test\\simspeed2.py -> build\\lib.win-amd64-cpython-312\\gensim\\test\n",
      "      copying gensim\\test\\svd_error.py -> build\\lib.win-amd64-cpython-312\\gensim\\test\n",
      "      copying gensim\\test\\test_aggregation.py -> build\\lib.win-amd64-cpython-312\\gensim\\test\n",
      "      copying gensim\\test\\test_api.py -> build\\lib.win-amd64-cpython-312\\gensim\\test\n",
      "      copying gensim\\test\\test_atmodel.py -> build\\lib.win-amd64-cpython-312\\gensim\\test\n",
      "      copying gensim\\test\\test_big.py -> build\\lib.win-amd64-cpython-312\\gensim\\test\n",
      "      copying gensim\\test\\test_BM25.py -> build\\lib.win-amd64-cpython-312\\gensim\\test\n",
      "      copying gensim\\test\\test_coherencemodel.py -> build\\lib.win-amd64-cpython-312\\gensim\\test\n",
      "      copying gensim\\test\\test_corpora.py -> build\\lib.win-amd64-cpython-312\\gensim\\test\n",
      "      copying gensim\\test\\test_corpora_dictionary.py -> build\\lib.win-amd64-cpython-312\\gensim\\test\n",
      "      copying gensim\\test\\test_corpora_hashdictionary.py -> build\\lib.win-amd64-cpython-312\\gensim\\test\n",
      "      copying gensim\\test\\test_d2vmodel.py -> build\\lib.win-amd64-cpython-312\\gensim\\test\n",
      "      copying gensim\\test\\test_datatype.py -> build\\lib.win-amd64-cpython-312\\gensim\\test\n",
      "      copying gensim\\test\\test_direct_confirmation.py -> build\\lib.win-amd64-cpython-312\\gensim\\test\n",
      "      copying gensim\\test\\test_doc2vec.py -> build\\lib.win-amd64-cpython-312\\gensim\\test\n",
      "      copying gensim\\test\\test_dtm.py -> build\\lib.win-amd64-cpython-312\\gensim\\test\n",
      "      copying gensim\\test\\test_fasttext.py -> build\\lib.win-amd64-cpython-312\\gensim\\test\n",
      "      copying gensim\\test\\test_fasttext_wrapper.py -> build\\lib.win-amd64-cpython-312\\gensim\\test\n",
      "      copying gensim\\test\\test_glove2word2vec.py -> build\\lib.win-amd64-cpython-312\\gensim\\test\n",
      "      copying gensim\\test\\test_hdpmodel.py -> build\\lib.win-amd64-cpython-312\\gensim\\test\n",
      "      copying gensim\\test\\test_indirect_confirmation.py -> build\\lib.win-amd64-cpython-312\\gensim\\test\n",
      "      copying gensim\\test\\test_keras_integration.py -> build\\lib.win-amd64-cpython-312\\gensim\\test\n",
      "      copying gensim\\test\\test_keyedvectors.py -> build\\lib.win-amd64-cpython-312\\gensim\\test\n",
      "      copying gensim\\test\\test_keywords.py -> build\\lib.win-amd64-cpython-312\\gensim\\test\n",
      "      copying gensim\\test\\test_ldamallet_wrapper.py -> build\\lib.win-amd64-cpython-312\\gensim\\test\n",
      "      copying gensim\\test\\test_ldamodel.py -> build\\lib.win-amd64-cpython-312\\gensim\\test\n",
      "      copying gensim\\test\\test_ldaseqmodel.py -> build\\lib.win-amd64-cpython-312\\gensim\\test\n",
      "      copying gensim\\test\\test_ldavowpalwabbit_wrapper.py -> build\\lib.win-amd64-cpython-312\\gensim\\test\n",
      "      copying gensim\\test\\test_lda_callback.py -> build\\lib.win-amd64-cpython-312\\gensim\\test\n",
      "      copying gensim\\test\\test_lee.py -> build\\lib.win-amd64-cpython-312\\gensim\\test\n",
      "      copying gensim\\test\\test_logentropy_model.py -> build\\lib.win-amd64-cpython-312\\gensim\\test\n",
      "      copying gensim\\test\\test_lsimodel.py -> build\\lib.win-amd64-cpython-312\\gensim\\test\n",
      "      copying gensim\\test\\test_matutils.py -> build\\lib.win-amd64-cpython-312\\gensim\\test\n",
      "      copying gensim\\test\\test_miislita.py -> build\\lib.win-amd64-cpython-312\\gensim\\test\n",
      "      copying gensim\\test\\test_nmf.py -> build\\lib.win-amd64-cpython-312\\gensim\\test\n",
      "      copying gensim\\test\\test_normmodel.py -> build\\lib.win-amd64-cpython-312\\gensim\\test\n",
      "      copying gensim\\test\\test_parsing.py -> build\\lib.win-amd64-cpython-312\\gensim\\test\n",
      "      copying gensim\\test\\test_phrases.py -> build\\lib.win-amd64-cpython-312\\gensim\\test\n",
      "      copying gensim\\test\\test_poincare.py -> build\\lib.win-amd64-cpython-312\\gensim\\test\n",
      "      copying gensim\\test\\test_probability_estimation.py -> build\\lib.win-amd64-cpython-312\\gensim\\test\n",
      "      copying gensim\\test\\test_rpmodel.py -> build\\lib.win-amd64-cpython-312\\gensim\\test\n",
      "      copying gensim\\test\\test_scripts.py -> build\\lib.win-amd64-cpython-312\\gensim\\test\n",
      "      copying gensim\\test\\test_segmentation.py -> build\\lib.win-amd64-cpython-312\\gensim\\test\n",
      "      copying gensim\\test\\test_sharded_corpus.py -> build\\lib.win-amd64-cpython-312\\gensim\\test\n",
      "      copying gensim\\test\\test_similarities.py -> build\\lib.win-amd64-cpython-312\\gensim\\test\n",
      "      copying gensim\\test\\test_similarity_metrics.py -> build\\lib.win-amd64-cpython-312\\gensim\\test\n",
      "      copying gensim\\test\\test_sklearn_api.py -> build\\lib.win-amd64-cpython-312\\gensim\\test\n",
      "      copying gensim\\test\\test_summarization.py -> build\\lib.win-amd64-cpython-312\\gensim\\test\n",
      "      copying gensim\\test\\test_text_analysis.py -> build\\lib.win-amd64-cpython-312\\gensim\\test\n",
      "      copying gensim\\test\\test_tfidfmodel.py -> build\\lib.win-amd64-cpython-312\\gensim\\test\n",
      "      copying gensim\\test\\test_tmdiff.py -> build\\lib.win-amd64-cpython-312\\gensim\\test\n",
      "      copying gensim\\test\\test_translation_matrix.py -> build\\lib.win-amd64-cpython-312\\gensim\\test\n",
      "      copying gensim\\test\\test_utils.py -> build\\lib.win-amd64-cpython-312\\gensim\\test\n",
      "      copying gensim\\test\\test_utils_any2vec.py -> build\\lib.win-amd64-cpython-312\\gensim\\test\n",
      "      copying gensim\\test\\test_varembed_wrapper.py -> build\\lib.win-amd64-cpython-312\\gensim\\test\n",
      "      copying gensim\\test\\test_word2vec.py -> build\\lib.win-amd64-cpython-312\\gensim\\test\n",
      "      copying gensim\\test\\test_wordrank_wrapper.py -> build\\lib.win-amd64-cpython-312\\gensim\\test\n",
      "      copying gensim\\test\\utils.py -> build\\lib.win-amd64-cpython-312\\gensim\\test\n",
      "      copying gensim\\test\\__init__.py -> build\\lib.win-amd64-cpython-312\\gensim\\test\n",
      "      creating build\\lib.win-amd64-cpython-312\\gensim\\topic_coherence\n",
      "      copying gensim\\topic_coherence\\aggregation.py -> build\\lib.win-amd64-cpython-312\\gensim\\topic_coherence\n",
      "      copying gensim\\topic_coherence\\direct_confirmation_measure.py -> build\\lib.win-amd64-cpython-312\\gensim\\topic_coherence\n",
      "      copying gensim\\topic_coherence\\indirect_confirmation_measure.py -> build\\lib.win-amd64-cpython-312\\gensim\\topic_coherence\n",
      "      copying gensim\\topic_coherence\\probability_estimation.py -> build\\lib.win-amd64-cpython-312\\gensim\\topic_coherence\n",
      "      copying gensim\\topic_coherence\\segmentation.py -> build\\lib.win-amd64-cpython-312\\gensim\\topic_coherence\n",
      "      copying gensim\\topic_coherence\\text_analysis.py -> build\\lib.win-amd64-cpython-312\\gensim\\topic_coherence\n",
      "      copying gensim\\topic_coherence\\__init__.py -> build\\lib.win-amd64-cpython-312\\gensim\\topic_coherence\n",
      "      creating build\\lib.win-amd64-cpython-312\\gensim\\viz\n",
      "      copying gensim\\viz\\poincare.py -> build\\lib.win-amd64-cpython-312\\gensim\\viz\n",
      "      copying gensim\\viz\\__init__.py -> build\\lib.win-amd64-cpython-312\\gensim\\viz\n",
      "      creating build\\lib.win-amd64-cpython-312\\gensim\\models\\deprecated\n",
      "      copying gensim\\models\\deprecated\\doc2vec.py -> build\\lib.win-amd64-cpython-312\\gensim\\models\\deprecated\n",
      "      copying gensim\\models\\deprecated\\fasttext.py -> build\\lib.win-amd64-cpython-312\\gensim\\models\\deprecated\n",
      "      copying gensim\\models\\deprecated\\fasttext_wrapper.py -> build\\lib.win-amd64-cpython-312\\gensim\\models\\deprecated\n",
      "      copying gensim\\models\\deprecated\\keyedvectors.py -> build\\lib.win-amd64-cpython-312\\gensim\\models\\deprecated\n",
      "      copying gensim\\models\\deprecated\\old_saveload.py -> build\\lib.win-amd64-cpython-312\\gensim\\models\\deprecated\n",
      "      copying gensim\\models\\deprecated\\word2vec.py -> build\\lib.win-amd64-cpython-312\\gensim\\models\\deprecated\n",
      "      copying gensim\\models\\deprecated\\__init__.py -> build\\lib.win-amd64-cpython-312\\gensim\\models\\deprecated\n",
      "      creating build\\lib.win-amd64-cpython-312\\gensim\\models\\wrappers\n",
      "      copying gensim\\models\\wrappers\\dtmmodel.py -> build\\lib.win-amd64-cpython-312\\gensim\\models\\wrappers\n",
      "      copying gensim\\models\\wrappers\\fasttext.py -> build\\lib.win-amd64-cpython-312\\gensim\\models\\wrappers\n",
      "      copying gensim\\models\\wrappers\\ldamallet.py -> build\\lib.win-amd64-cpython-312\\gensim\\models\\wrappers\n",
      "      copying gensim\\models\\wrappers\\ldavowpalwabbit.py -> build\\lib.win-amd64-cpython-312\\gensim\\models\\wrappers\n",
      "      copying gensim\\models\\wrappers\\varembed.py -> build\\lib.win-amd64-cpython-312\\gensim\\models\\wrappers\n",
      "      copying gensim\\models\\wrappers\\wordrank.py -> build\\lib.win-amd64-cpython-312\\gensim\\models\\wrappers\n",
      "      copying gensim\\models\\wrappers\\__init__.py -> build\\lib.win-amd64-cpython-312\\gensim\\models\\wrappers\n",
      "      running egg_info\n",
      "      writing gensim.egg-info\\PKG-INFO\n",
      "      writing dependency_links to gensim.egg-info\\dependency_links.txt\n",
      "      writing requirements to gensim.egg-info\\requires.txt\n",
      "      writing top-level names to gensim.egg-info\\top_level.txt\n",
      "      [04/21/24 19:32:46] ERROR    listing git files failed - pretending    git.py:24\n",
      "                                   there aren't any\n",
      "      reading manifest file 'gensim.egg-info\\SOURCES.txt'\n",
      "      reading manifest template 'MANIFEST.in'\n",
      "      warning: no files found matching 'COPYING.LESSER'\n",
      "      warning: no files found matching 'ez_setup.py'\n",
      "      warning: no files found matching 'gensim\\models\\doc2vec_inner.c'\n",
      "      adding license file 'COPYING'\n",
      "      writing manifest file 'gensim.egg-info\\SOURCES.txt'\n",
      "      c:\\Users\\padha\\AppData\\Local\\Programs\\Python\\Python312\\Lib\\site-packages\\setuptools\\command\\build_py.py:207: _Warning: Package 'gensim.corpora' is absent from the `packages` configuration.\n",
      "      !!\n",
      "      \n",
      "              ********************************************************************************\n",
      "              ############################\n",
      "              # Package would be ignored #\n",
      "              ############################\n",
      "              Python recognizes 'gensim.corpora' as an importable package[^1],\n",
      "              but it is absent from setuptools' `packages` configuration.\n",
      "      \n",
      "              This leads to an ambiguous overall configuration. If you want to distribute this\n",
      "              package, please make sure that 'gensim.corpora' is explicitly added\n",
      "              to the `packages` configuration field.\n",
      "      \n",
      "              Alternatively, you can also rely on setuptools' discovery methods\n",
      "              (for example by using `find_namespace_packages(...)`/`find_namespace:`\n",
      "              instead of `find_packages(...)`/`find:`).\n",
      "      \n",
      "              You can read more about \"package discovery\" on setuptools documentation page:\n",
      "      \n",
      "              - https://setuptools.pypa.io/en/latest/userguide/package_discovery.html\n",
      "      \n",
      "              If you don't want 'gensim.corpora' to be distributed and are\n",
      "              already explicitly excluding 'gensim.corpora' via\n",
      "              `find_namespace_packages(...)/find_namespace` or `find_packages(...)/find`,\n",
      "              you can try to use `exclude_package_data`, or `include-package-data=False` in\n",
      "              combination with a more fine grained `package-data` configuration.\n",
      "      \n",
      "              You can read more about \"package data files\" on setuptools documentation page:\n",
      "      \n",
      "              - https://setuptools.pypa.io/en/latest/userguide/datafiles.html\n",
      "      \n",
      "      \n",
      "              [^1]: For Python, any directory (with suitable naming) can be imported,\n",
      "                    even if it does not contain any `.py` files.\n",
      "                    On the other hand, currently there is no concept of package data\n",
      "                    directory, all directories are treated like packages.\n",
      "              ********************************************************************************\n",
      "      \n",
      "      !!\n",
      "        check.warn(importable)\n",
      "      c:\\Users\\padha\\AppData\\Local\\Programs\\Python\\Python312\\Lib\\site-packages\\setuptools\\command\\build_py.py:207: _Warning: Package 'gensim.models' is absent from the `packages` configuration.\n",
      "      !!\n",
      "      \n",
      "              ********************************************************************************\n",
      "              ############################\n",
      "              # Package would be ignored #\n",
      "              ############################\n",
      "              Python recognizes 'gensim.models' as an importable package[^1],\n",
      "              but it is absent from setuptools' `packages` configuration.\n",
      "      \n",
      "              This leads to an ambiguous overall configuration. If you want to distribute this\n",
      "              package, please make sure that 'gensim.models' is explicitly added\n",
      "              to the `packages` configuration field.\n",
      "      \n",
      "              Alternatively, you can also rely on setuptools' discovery methods\n",
      "              (for example by using `find_namespace_packages(...)`/`find_namespace:`\n",
      "              instead of `find_packages(...)`/`find:`).\n",
      "      \n",
      "              You can read more about \"package discovery\" on setuptools documentation page:\n",
      "      \n",
      "              - https://setuptools.pypa.io/en/latest/userguide/package_discovery.html\n",
      "      \n",
      "              If you don't want 'gensim.models' to be distributed and are\n",
      "              already explicitly excluding 'gensim.models' via\n",
      "              `find_namespace_packages(...)/find_namespace` or `find_packages(...)/find`,\n",
      "              you can try to use `exclude_package_data`, or `include-package-data=False` in\n",
      "              combination with a more fine grained `package-data` configuration.\n",
      "      \n",
      "              You can read more about \"package data files\" on setuptools documentation page:\n",
      "      \n",
      "              - https://setuptools.pypa.io/en/latest/userguide/datafiles.html\n",
      "      \n",
      "      \n",
      "              [^1]: For Python, any directory (with suitable naming) can be imported,\n",
      "                    even if it does not contain any `.py` files.\n",
      "                    On the other hand, currently there is no concept of package data\n",
      "                    directory, all directories are treated like packages.\n",
      "              ********************************************************************************\n",
      "      \n",
      "      !!\n",
      "        check.warn(importable)\n",
      "      c:\\Users\\padha\\AppData\\Local\\Programs\\Python\\Python312\\Lib\\site-packages\\setuptools\\command\\build_py.py:207: _Warning: Package 'gensim.test.test_data' is absent from the `packages` configuration.\n",
      "      !!\n",
      "      \n",
      "              ********************************************************************************\n",
      "              ############################\n",
      "              # Package would be ignored #\n",
      "              ############################\n",
      "              Python recognizes 'gensim.test.test_data' as an importable package[^1],\n",
      "              but it is absent from setuptools' `packages` configuration.\n",
      "      \n",
      "              This leads to an ambiguous overall configuration. If you want to distribute this\n",
      "              package, please make sure that 'gensim.test.test_data' is explicitly added\n",
      "              to the `packages` configuration field.\n",
      "      \n",
      "              Alternatively, you can also rely on setuptools' discovery methods\n",
      "              (for example by using `find_namespace_packages(...)`/`find_namespace:`\n",
      "              instead of `find_packages(...)`/`find:`).\n",
      "      \n",
      "              You can read more about \"package discovery\" on setuptools documentation page:\n",
      "      \n",
      "              - https://setuptools.pypa.io/en/latest/userguide/package_discovery.html\n",
      "      \n",
      "              If you don't want 'gensim.test.test_data' to be distributed and are\n",
      "              already explicitly excluding 'gensim.test.test_data' via\n",
      "              `find_namespace_packages(...)/find_namespace` or `find_packages(...)/find`,\n",
      "              you can try to use `exclude_package_data`, or `include-package-data=False` in\n",
      "              combination with a more fine grained `package-data` configuration.\n",
      "      \n",
      "              You can read more about \"package data files\" on setuptools documentation page:\n",
      "      \n",
      "              - https://setuptools.pypa.io/en/latest/userguide/datafiles.html\n",
      "      \n",
      "      \n",
      "              [^1]: For Python, any directory (with suitable naming) can be imported,\n",
      "                    even if it does not contain any `.py` files.\n",
      "                    On the other hand, currently there is no concept of package data\n",
      "                    directory, all directories are treated like packages.\n",
      "              ********************************************************************************\n",
      "      \n",
      "      !!\n",
      "        check.warn(importable)\n",
      "      c:\\Users\\padha\\AppData\\Local\\Programs\\Python\\Python312\\Lib\\site-packages\\setuptools\\command\\build_py.py:207: _Warning: Package 'gensim.test.test_data.DTM' is absent from the `packages` configuration.\n",
      "      !!\n",
      "      \n",
      "              ********************************************************************************\n",
      "              ############################\n",
      "              # Package would be ignored #\n",
      "              ############################\n",
      "              Python recognizes 'gensim.test.test_data.DTM' as an importable package[^1],\n",
      "              but it is absent from setuptools' `packages` configuration.\n",
      "      \n",
      "              This leads to an ambiguous overall configuration. If you want to distribute this\n",
      "              package, please make sure that 'gensim.test.test_data.DTM' is explicitly added\n",
      "              to the `packages` configuration field.\n",
      "      \n",
      "              Alternatively, you can also rely on setuptools' discovery methods\n",
      "              (for example by using `find_namespace_packages(...)`/`find_namespace:`\n",
      "              instead of `find_packages(...)`/`find:`).\n",
      "      \n",
      "              You can read more about \"package discovery\" on setuptools documentation page:\n",
      "      \n",
      "              - https://setuptools.pypa.io/en/latest/userguide/package_discovery.html\n",
      "      \n",
      "              If you don't want 'gensim.test.test_data.DTM' to be distributed and are\n",
      "              already explicitly excluding 'gensim.test.test_data.DTM' via\n",
      "              `find_namespace_packages(...)/find_namespace` or `find_packages(...)/find`,\n",
      "              you can try to use `exclude_package_data`, or `include-package-data=False` in\n",
      "              combination with a more fine grained `package-data` configuration.\n",
      "      \n",
      "              You can read more about \"package data files\" on setuptools documentation page:\n",
      "      \n",
      "              - https://setuptools.pypa.io/en/latest/userguide/datafiles.html\n",
      "      \n",
      "      \n",
      "              [^1]: For Python, any directory (with suitable naming) can be imported,\n",
      "                    even if it does not contain any `.py` files.\n",
      "                    On the other hand, currently there is no concept of package data\n",
      "                    directory, all directories are treated like packages.\n",
      "              ********************************************************************************\n",
      "      \n",
      "      !!\n",
      "        check.warn(importable)\n",
      "      c:\\Users\\padha\\AppData\\Local\\Programs\\Python\\Python312\\Lib\\site-packages\\setuptools\\command\\build_py.py:207: _Warning: Package 'gensim.test.test_data.PathLineSentences' is absent from the `packages` configuration.\n",
      "      !!\n",
      "      \n",
      "              ********************************************************************************\n",
      "              ############################\n",
      "              # Package would be ignored #\n",
      "              ############################\n",
      "              Python recognizes 'gensim.test.test_data.PathLineSentences' as an importable package[^1],\n",
      "              but it is absent from setuptools' `packages` configuration.\n",
      "      \n",
      "              This leads to an ambiguous overall configuration. If you want to distribute this\n",
      "              package, please make sure that 'gensim.test.test_data.PathLineSentences' is explicitly added\n",
      "              to the `packages` configuration field.\n",
      "      \n",
      "              Alternatively, you can also rely on setuptools' discovery methods\n",
      "              (for example by using `find_namespace_packages(...)`/`find_namespace:`\n",
      "              instead of `find_packages(...)`/`find:`).\n",
      "      \n",
      "              You can read more about \"package discovery\" on setuptools documentation page:\n",
      "      \n",
      "              - https://setuptools.pypa.io/en/latest/userguide/package_discovery.html\n",
      "      \n",
      "              If you don't want 'gensim.test.test_data.PathLineSentences' to be distributed and are\n",
      "              already explicitly excluding 'gensim.test.test_data.PathLineSentences' via\n",
      "              `find_namespace_packages(...)/find_namespace` or `find_packages(...)/find`,\n",
      "              you can try to use `exclude_package_data`, or `include-package-data=False` in\n",
      "              combination with a more fine grained `package-data` configuration.\n",
      "      \n",
      "              You can read more about \"package data files\" on setuptools documentation page:\n",
      "      \n",
      "              - https://setuptools.pypa.io/en/latest/userguide/datafiles.html\n",
      "      \n",
      "      \n",
      "              [^1]: For Python, any directory (with suitable naming) can be imported,\n",
      "                    even if it does not contain any `.py` files.\n",
      "                    On the other hand, currently there is no concept of package data\n",
      "                    directory, all directories are treated like packages.\n",
      "              ********************************************************************************\n",
      "      \n",
      "      !!\n",
      "        check.warn(importable)\n",
      "      c:\\Users\\padha\\AppData\\Local\\Programs\\Python\\Python312\\Lib\\site-packages\\setuptools\\command\\build_py.py:207: _Warning: Package 'gensim.test.test_data.old_d2v_models' is absent from the `packages` configuration.\n",
      "      !!\n",
      "      \n",
      "              ********************************************************************************\n",
      "              ############################\n",
      "              # Package would be ignored #\n",
      "              ############################\n",
      "              Python recognizes 'gensim.test.test_data.old_d2v_models' as an importable package[^1],\n",
      "              but it is absent from setuptools' `packages` configuration.\n",
      "      \n",
      "              This leads to an ambiguous overall configuration. If you want to distribute this\n",
      "              package, please make sure that 'gensim.test.test_data.old_d2v_models' is explicitly added\n",
      "              to the `packages` configuration field.\n",
      "      \n",
      "              Alternatively, you can also rely on setuptools' discovery methods\n",
      "              (for example by using `find_namespace_packages(...)`/`find_namespace:`\n",
      "              instead of `find_packages(...)`/`find:`).\n",
      "      \n",
      "              You can read more about \"package discovery\" on setuptools documentation page:\n",
      "      \n",
      "              - https://setuptools.pypa.io/en/latest/userguide/package_discovery.html\n",
      "      \n",
      "              If you don't want 'gensim.test.test_data.old_d2v_models' to be distributed and are\n",
      "              already explicitly excluding 'gensim.test.test_data.old_d2v_models' via\n",
      "              `find_namespace_packages(...)/find_namespace` or `find_packages(...)/find`,\n",
      "              you can try to use `exclude_package_data`, or `include-package-data=False` in\n",
      "              combination with a more fine grained `package-data` configuration.\n",
      "      \n",
      "              You can read more about \"package data files\" on setuptools documentation page:\n",
      "      \n",
      "              - https://setuptools.pypa.io/en/latest/userguide/datafiles.html\n",
      "      \n",
      "      \n",
      "              [^1]: For Python, any directory (with suitable naming) can be imported,\n",
      "                    even if it does not contain any `.py` files.\n",
      "                    On the other hand, currently there is no concept of package data\n",
      "                    directory, all directories are treated like packages.\n",
      "              ********************************************************************************\n",
      "      \n",
      "      !!\n",
      "        check.warn(importable)\n",
      "      c:\\Users\\padha\\AppData\\Local\\Programs\\Python\\Python312\\Lib\\site-packages\\setuptools\\command\\build_py.py:207: _Warning: Package 'gensim.test.test_data.old_w2v_models' is absent from the `packages` configuration.\n",
      "      !!\n",
      "      \n",
      "              ********************************************************************************\n",
      "              ############################\n",
      "              # Package would be ignored #\n",
      "              ############################\n",
      "              Python recognizes 'gensim.test.test_data.old_w2v_models' as an importable package[^1],\n",
      "              but it is absent from setuptools' `packages` configuration.\n",
      "      \n",
      "              This leads to an ambiguous overall configuration. If you want to distribute this\n",
      "              package, please make sure that 'gensim.test.test_data.old_w2v_models' is explicitly added\n",
      "              to the `packages` configuration field.\n",
      "      \n",
      "              Alternatively, you can also rely on setuptools' discovery methods\n",
      "              (for example by using `find_namespace_packages(...)`/`find_namespace:`\n",
      "              instead of `find_packages(...)`/`find:`).\n",
      "      \n",
      "              You can read more about \"package discovery\" on setuptools documentation page:\n",
      "      \n",
      "              - https://setuptools.pypa.io/en/latest/userguide/package_discovery.html\n",
      "      \n",
      "              If you don't want 'gensim.test.test_data.old_w2v_models' to be distributed and are\n",
      "              already explicitly excluding 'gensim.test.test_data.old_w2v_models' via\n",
      "              `find_namespace_packages(...)/find_namespace` or `find_packages(...)/find`,\n",
      "              you can try to use `exclude_package_data`, or `include-package-data=False` in\n",
      "              combination with a more fine grained `package-data` configuration.\n",
      "      \n",
      "              You can read more about \"package data files\" on setuptools documentation page:\n",
      "      \n",
      "              - https://setuptools.pypa.io/en/latest/userguide/datafiles.html\n",
      "      \n",
      "      \n",
      "              [^1]: For Python, any directory (with suitable naming) can be imported,\n",
      "                    even if it does not contain any `.py` files.\n",
      "                    On the other hand, currently there is no concept of package data\n",
      "                    directory, all directories are treated like packages.\n",
      "              ********************************************************************************\n",
      "      \n",
      "      !!\n",
      "        check.warn(importable)\n",
      "      copying gensim\\_matutils.c -> build\\lib.win-amd64-cpython-312\\gensim\n",
      "      copying gensim\\_matutils.pyx -> build\\lib.win-amd64-cpython-312\\gensim\n",
      "      copying gensim\\corpora\\_mmreader.c -> build\\lib.win-amd64-cpython-312\\gensim\\corpora\n",
      "      copying gensim\\models\\_utils_any2vec.c -> build\\lib.win-amd64-cpython-312\\gensim\\models\n",
      "      copying gensim\\models\\doc2vec_corpusfile.cpp -> build\\lib.win-amd64-cpython-312\\gensim\\models\n",
      "      copying gensim\\models\\doc2vec_inner.cpp -> build\\lib.win-amd64-cpython-312\\gensim\\models\n",
      "      copying gensim\\models\\fasttext_corpusfile.cpp -> build\\lib.win-amd64-cpython-312\\gensim\\models\n",
      "      copying gensim\\models\\fasttext_inner.c -> build\\lib.win-amd64-cpython-312\\gensim\\models\n",
      "      copying gensim\\models\\nmf_pgd.c -> build\\lib.win-amd64-cpython-312\\gensim\\models\n",
      "      copying gensim\\models\\word2vec_corpusfile.cpp -> build\\lib.win-amd64-cpython-312\\gensim\\models\n",
      "      copying gensim\\models\\word2vec_inner.c -> build\\lib.win-amd64-cpython-312\\gensim\\models\n",
      "      copying gensim\\corpora\\_mmreader.pyx -> build\\lib.win-amd64-cpython-312\\gensim\\corpora\n",
      "      copying gensim\\models\\_utils_any2vec.pyx -> build\\lib.win-amd64-cpython-312\\gensim\\models\n",
      "      copying gensim\\models\\doc2vec_corpusfile.pyx -> build\\lib.win-amd64-cpython-312\\gensim\\models\n",
      "      copying gensim\\models\\doc2vec_inner.pxd -> build\\lib.win-amd64-cpython-312\\gensim\\models\n",
      "      copying gensim\\models\\doc2vec_inner.pyx -> build\\lib.win-amd64-cpython-312\\gensim\\models\n",
      "      copying gensim\\models\\fast_line_sentence.h -> build\\lib.win-amd64-cpython-312\\gensim\\models\n",
      "      copying gensim\\models\\fasttext_corpusfile.pyx -> build\\lib.win-amd64-cpython-312\\gensim\\models\n",
      "      copying gensim\\models\\fasttext_inner.pxd -> build\\lib.win-amd64-cpython-312\\gensim\\models\n",
      "      copying gensim\\models\\fasttext_inner.pyx -> build\\lib.win-amd64-cpython-312\\gensim\\models\n",
      "      copying gensim\\models\\nmf_pgd.pyx -> build\\lib.win-amd64-cpython-312\\gensim\\models\n",
      "      copying gensim\\models\\stdint_wrapper.h -> build\\lib.win-amd64-cpython-312\\gensim\\models\n",
      "      copying gensim\\models\\voidptr.h -> build\\lib.win-amd64-cpython-312\\gensim\\models\n",
      "      copying gensim\\models\\word2vec_corpusfile.pxd -> build\\lib.win-amd64-cpython-312\\gensim\\models\n",
      "      copying gensim\\models\\word2vec_corpusfile.pyx -> build\\lib.win-amd64-cpython-312\\gensim\\models\n",
      "      copying gensim\\models\\word2vec_inner.pxd -> build\\lib.win-amd64-cpython-312\\gensim\\models\n",
      "      copying gensim\\models\\word2vec_inner.pyx -> build\\lib.win-amd64-cpython-312\\gensim\\models\n",
      "      creating build\\lib.win-amd64-cpython-312\\gensim\\test\\test_data\n",
      "      copying gensim\\test\\test_data\\EN.1-10.cbow1_wind5_hs0_neg10_size300_smpl1e-05.txt -> build\\lib.win-amd64-cpython-312\\gensim\\test\\test_data\n",
      "      copying gensim\\test\\test_data\\IT.1-10.cbow1_wind5_hs0_neg10_size300_smpl1e-05.txt -> build\\lib.win-amd64-cpython-312\\gensim\\test\\test_data\n",
      "      copying gensim\\test\\test_data\\OPUS_en_it_europarl_train_one2ten.txt -> build\\lib.win-amd64-cpython-312\\gensim\\test\\test_data\n",
      "      copying gensim\\test\\test_data\\alldata-id-10.txt -> build\\lib.win-amd64-cpython-312\\gensim\\test\\test_data\n",
      "      copying gensim\\test\\test_data\\atmodel_3_0_1_model -> build\\lib.win-amd64-cpython-312\\gensim\\test\\test_data\n",
      "      copying gensim\\test\\test_data\\atmodel_3_0_1_model.expElogbeta.npy -> build\\lib.win-amd64-cpython-312\\gensim\\test\\test_data\n",
      "      copying gensim\\test\\test_data\\atmodel_3_0_1_model.id2word -> build\\lib.win-amd64-cpython-312\\gensim\\test\\test_data\n",
      "      copying gensim\\test\\test_data\\atmodel_3_0_1_model.state -> build\\lib.win-amd64-cpython-312\\gensim\\test\\test_data\n",
      "      copying gensim\\test\\test_data\\bgwiki-latest-pages-articles-shortened.xml.bz2 -> build\\lib.win-amd64-cpython-312\\gensim\\test\\test_data\n",
      "      copying gensim\\test\\test_data\\compatible-hash-false.model -> build\\lib.win-amd64-cpython-312\\gensim\\test\\test_data\n",
      "      copying gensim\\test\\test_data\\compatible-hash-true.model -> build\\lib.win-amd64-cpython-312\\gensim\\test\\test_data\n",
      "      copying gensim\\test\\test_data\\cp852_fasttext.bin -> build\\lib.win-amd64-cpython-312\\gensim\\test\\test_data\n",
      "      copying gensim\\test\\test_data\\crime-and-punishment.bin -> build\\lib.win-amd64-cpython-312\\gensim\\test\\test_data\n",
      "      copying gensim\\test\\test_data\\crime-and-punishment.txt -> build\\lib.win-amd64-cpython-312\\gensim\\test\\test_data\n",
      "      copying gensim\\test\\test_data\\crime-and-punishment.vec -> build\\lib.win-amd64-cpython-312\\gensim\\test\\test_data\n",
      "      copying gensim\\test\\test_data\\d2v-lee-v0.13.0 -> build\\lib.win-amd64-cpython-312\\gensim\\test\\test_data\n",
      "      copying gensim\\test\\test_data\\doc2vec_old -> build\\lib.win-amd64-cpython-312\\gensim\\test\\test_data\n",
      "      copying gensim\\test\\test_data\\doc2vec_old_sep -> build\\lib.win-amd64-cpython-312\\gensim\\test\\test_data\n",
      "      copying gensim\\test\\test_data\\doc2vec_old_sep.syn0_lockf.npy -> build\\lib.win-amd64-cpython-312\\gensim\\test\\test_data\n",
      "      copying gensim\\test\\test_data\\doc2vec_old_sep.syn1neg.npy -> build\\lib.win-amd64-cpython-312\\gensim\\test\\test_data\n",
      "      copying gensim\\test\\test_data\\dtm_test.dict -> build\\lib.win-amd64-cpython-312\\gensim\\test\\test_data\n",
      "      copying gensim\\test\\test_data\\dtm_test.mm -> build\\lib.win-amd64-cpython-312\\gensim\\test\\test_data\n",
      "      copying gensim\\test\\test_data\\enwiki-latest-pages-articles1.xml-p000000010p000030302-shortened.bz2 -> build\\lib.win-amd64-cpython-312\\gensim\\test\\test_data\n",
      "      copying gensim\\test\\test_data\\enwiki-table-markup.xml.bz2 -> build\\lib.win-amd64-cpython-312\\gensim\\test\\test_data\n",
      "      copying gensim\\test\\test_data\\euclidean_vectors.bin -> build\\lib.win-amd64-cpython-312\\gensim\\test\\test_data\n",
      "      copying gensim\\test\\test_data\\fasttext_old -> build\\lib.win-amd64-cpython-312\\gensim\\test\\test_data\n",
      "      copying gensim\\test\\test_data\\fasttext_old_sep -> build\\lib.win-amd64-cpython-312\\gensim\\test\\test_data\n",
      "      copying gensim\\test\\test_data\\fasttext_old_sep.syn0_lockf.npy -> build\\lib.win-amd64-cpython-312\\gensim\\test\\test_data\n",
      "      copying gensim\\test\\test_data\\fasttext_old_sep.syn1neg.npy -> build\\lib.win-amd64-cpython-312\\gensim\\test\\test_data\n",
      "      copying gensim\\test\\test_data\\fb-ngrams.txt -> build\\lib.win-amd64-cpython-312\\gensim\\test\\test_data\n",
      "      copying gensim\\test\\test_data\\ft_kv_3.6.0.model.gz -> build\\lib.win-amd64-cpython-312\\gensim\\test\\test_data\n",
      "      copying gensim\\test\\test_data\\ft_model_2.3.0 -> build\\lib.win-amd64-cpython-312\\gensim\\test\\test_data\n",
      "      copying gensim\\test\\test_data\\head500.noblanks.cor -> build\\lib.win-amd64-cpython-312\\gensim\\test\\test_data\n",
      "      copying gensim\\test\\test_data\\head500.noblanks.cor.bz2 -> build\\lib.win-amd64-cpython-312\\gensim\\test\\test_data\n",
      "      copying gensim\\test\\test_data\\head500.noblanks.cor_tfidf.model -> build\\lib.win-amd64-cpython-312\\gensim\\test\\test_data\n",
      "      copying gensim\\test\\test_data\\head500.noblanks.cor_wordids.txt -> build\\lib.win-amd64-cpython-312\\gensim\\test\\test_data\n",
      "      copying gensim\\test\\test_data\\high_precision.kv.bin -> build\\lib.win-amd64-cpython-312\\gensim\\test\\test_data\n",
      "      copying gensim\\test\\test_data\\high_precision.kv.txt -> build\\lib.win-amd64-cpython-312\\gensim\\test\\test_data\n",
      "      copying gensim\\test\\test_data\\large_tag_doc_10_iter50 -> build\\lib.win-amd64-cpython-312\\gensim\\test\\test_data\n",
      "      copying gensim\\test\\test_data\\lda_3_0_1_model -> build\\lib.win-amd64-cpython-312\\gensim\\test\\test_data\n",
      "      copying gensim\\test\\test_data\\lda_3_0_1_model.expElogbeta.npy -> build\\lib.win-amd64-cpython-312\\gensim\\test\\test_data\n",
      "      copying gensim\\test\\test_data\\lda_3_0_1_model.id2word -> build\\lib.win-amd64-cpython-312\\gensim\\test\\test_data\n",
      "      copying gensim\\test\\test_data\\lda_3_0_1_model.state -> build\\lib.win-amd64-cpython-312\\gensim\\test\\test_data\n",
      "      copying gensim\\test\\test_data\\ldamodel_python_2_7 -> build\\lib.win-amd64-cpython-312\\gensim\\test\\test_data\n",
      "      copying gensim\\test\\test_data\\ldamodel_python_2_7.expElogbeta.npy -> build\\lib.win-amd64-cpython-312\\gensim\\test\\test_data\n",
      "      copying gensim\\test\\test_data\\ldamodel_python_2_7.id2word -> build\\lib.win-amd64-cpython-312\\gensim\\test\\test_data\n",
      "      copying gensim\\test\\test_data\\ldamodel_python_2_7.state -> build\\lib.win-amd64-cpython-312\\gensim\\test\\test_data\n",
      "      copying gensim\\test\\test_data\\ldamodel_python_3_5 -> build\\lib.win-amd64-cpython-312\\gensim\\test\\test_data\n",
      "      copying gensim\\test\\test_data\\ldamodel_python_3_5.expElogbeta.npy -> build\\lib.win-amd64-cpython-312\\gensim\\test\\test_data\n",
      "      copying gensim\\test\\test_data\\ldamodel_python_3_5.id2word -> build\\lib.win-amd64-cpython-312\\gensim\\test\\test_data\n",
      "      copying gensim\\test\\test_data\\ldamodel_python_3_5.state -> build\\lib.win-amd64-cpython-312\\gensim\\test\\test_data\n",
      "      copying gensim\\test\\test_data\\ldavowpalwabbit.dict.txt -> build\\lib.win-amd64-cpython-312\\gensim\\test\\test_data\n",
      "      copying gensim\\test\\test_data\\ldavowpalwabbit.txt -> build\\lib.win-amd64-cpython-312\\gensim\\test\\test_data\n",
      "      copying gensim\\test\\test_data\\lee.cor -> build\\lib.win-amd64-cpython-312\\gensim\\test\\test_data\n",
      "      copying gensim\\test\\test_data\\lee_background.cor -> build\\lib.win-amd64-cpython-312\\gensim\\test\\test_data\n",
      "      copying gensim\\test\\test_data\\lee_fasttext -> build\\lib.win-amd64-cpython-312\\gensim\\test\\test_data\n",
      "      copying gensim\\test\\test_data\\lee_fasttext.bin -> build\\lib.win-amd64-cpython-312\\gensim\\test\\test_data\n",
      "      copying gensim\\test\\test_data\\lee_fasttext.vec -> build\\lib.win-amd64-cpython-312\\gensim\\test\\test_data\n",
      "      copying gensim\\test\\test_data\\lee_fasttext_new.bin -> build\\lib.win-amd64-cpython-312\\gensim\\test\\test_data\n",
      "      copying gensim\\test\\test_data\\miIslita.cor -> build\\lib.win-amd64-cpython-312\\gensim\\test\\test_data\n",
      "      copying gensim\\test\\test_data\\mihalcea_tarau.kw.txt -> build\\lib.win-amd64-cpython-312\\gensim\\test\\test_data\n",
      "      copying gensim\\test\\test_data\\mihalcea_tarau.kwpos.txt -> build\\lib.win-amd64-cpython-312\\gensim\\test\\test_data\n",
      "      copying gensim\\test\\test_data\\mihalcea_tarau.summ.txt -> build\\lib.win-amd64-cpython-312\\gensim\\test\\test_data\n",
      "      copying gensim\\test\\test_data\\mihalcea_tarau.txt -> build\\lib.win-amd64-cpython-312\\gensim\\test\\test_data\n",
      "      copying gensim\\test\\test_data\\mini_newsgroup -> build\\lib.win-amd64-cpython-312\\gensim\\test\\test_data\n",
      "      copying gensim\\test\\test_data\\nmf_model -> build\\lib.win-amd64-cpython-312\\gensim\\test\\test_data\n",
      "      copying gensim\\test\\test_data\\non_ascii_fasttext.bin -> build\\lib.win-amd64-cpython-312\\gensim\\test\\test_data\n",
      "      copying gensim\\test\\test_data\\old_keyedvectors_320.dat -> build\\lib.win-amd64-cpython-312\\gensim\\test\\test_data\n",
      "      copying gensim\\test\\test_data\\pang_lee_polarity.cor -> build\\lib.win-amd64-cpython-312\\gensim\\test\\test_data\n",
      "      copying gensim\\test\\test_data\\pang_lee_polarity_fasttext.bin -> build\\lib.win-amd64-cpython-312\\gensim\\test\\test_data\n",
      "      copying gensim\\test\\test_data\\pang_lee_polarity_fasttext.vec -> build\\lib.win-amd64-cpython-312\\gensim\\test\\test_data\n",
      "      copying gensim\\test\\test_data\\para2para_text1.txt -> build\\lib.win-amd64-cpython-312\\gensim\\test\\test_data\n",
      "      copying gensim\\test\\test_data\\para2para_text2.txt -> build\\lib.win-amd64-cpython-312\\gensim\\test\\test_data\n",
      "      copying gensim\\test\\test_data\\phraser-3.6.0.model -> build\\lib.win-amd64-cpython-312\\gensim\\test\\test_data\n",
      "      copying gensim\\test\\test_data\\phraser-no-common-terms.pkl -> build\\lib.win-amd64-cpython-312\\gensim\\test\\test_data\n",
      "      copying gensim\\test\\test_data\\phraser-no-scoring.pkl -> build\\lib.win-amd64-cpython-312\\gensim\\test\\test_data\n",
      "      copying gensim\\test\\test_data\\phraser-scoring-str.pkl -> build\\lib.win-amd64-cpython-312\\gensim\\test\\test_data\n",
      "      copying gensim\\test\\test_data\\phrases-3.6.0.model -> build\\lib.win-amd64-cpython-312\\gensim\\test\\test_data\n",
      "      copying gensim\\test\\test_data\\phrases-no-common-terms.pkl -> build\\lib.win-amd64-cpython-312\\gensim\\test\\test_data\n",
      "      copying gensim\\test\\test_data\\phrases-no-scoring.pkl -> build\\lib.win-amd64-cpython-312\\gensim\\test\\test_data\n",
      "      copying gensim\\test\\test_data\\phrases-scoring-str.pkl -> build\\lib.win-amd64-cpython-312\\gensim\\test\\test_data\n",
      "      copying gensim\\test\\test_data\\phrases-transformer-new-v3-5-0.pkl -> build\\lib.win-amd64-cpython-312\\gensim\\test\\test_data\n",
      "      copying gensim\\test\\test_data\\phrases-transformer-v3-5-0.pkl -> build\\lib.win-amd64-cpython-312\\gensim\\test\\test_data\n",
      "      copying gensim\\test\\test_data\\poincare_cp852.tsv -> build\\lib.win-amd64-cpython-312\\gensim\\test\\test_data\n",
      "      copying gensim\\test\\test_data\\poincare_hypernyms.tsv -> build\\lib.win-amd64-cpython-312\\gensim\\test\\test_data\n",
      "      copying gensim\\test\\test_data\\poincare_hypernyms_large.tsv -> build\\lib.win-amd64-cpython-312\\gensim\\test\\test_data\n",
      "      copying gensim\\test\\test_data\\poincare_test_3.4.0 -> build\\lib.win-amd64-cpython-312\\gensim\\test\\test_data\n",
      "      copying gensim\\test\\test_data\\poincare_utf8.tsv -> build\\lib.win-amd64-cpython-312\\gensim\\test\\test_data\n",
      "      copying gensim\\test\\test_data\\poincare_vectors.bin -> build\\lib.win-amd64-cpython-312\\gensim\\test\\test_data\n",
      "      copying gensim\\test\\test_data\\pre_0_13_2_model -> build\\lib.win-amd64-cpython-312\\gensim\\test\\test_data\n",
      "      copying gensim\\test\\test_data\\pre_0_13_2_model.state -> build\\lib.win-amd64-cpython-312\\gensim\\test\\test_data\n",
      "      copying gensim\\test\\test_data\\pretrained.vec -> build\\lib.win-amd64-cpython-312\\gensim\\test\\test_data\n",
      "      copying gensim\\test\\test_data\\questions-words.txt -> build\\lib.win-amd64-cpython-312\\gensim\\test\\test_data\n",
      "      copying gensim\\test\\test_data\\reproduce.dat -> build\\lib.win-amd64-cpython-312\\gensim\\test\\test_data\n",
      "      copying gensim\\test\\test_data\\reproduce.dat.gz -> build\\lib.win-amd64-cpython-312\\gensim\\test\\test_data\n",
      "      copying gensim\\test\\test_data\\similarities0-1.txt -> build\\lib.win-amd64-cpython-312\\gensim\\test\\test_data\n",
      "      copying gensim\\test\\test_data\\simlex999.txt -> build\\lib.win-amd64-cpython-312\\gensim\\test\\test_data\n",
      "      copying gensim\\test\\test_data\\small_tag_doc_5_iter50 -> build\\lib.win-amd64-cpython-312\\gensim\\test\\test_data\n",
      "      copying gensim\\test\\test_data\\test_corpus_ok.mm -> build\\lib.win-amd64-cpython-312\\gensim\\test\\test_data\n",
      "      copying gensim\\test\\test_data\\test_corpus_small.mm -> build\\lib.win-amd64-cpython-312\\gensim\\test\\test_data\n",
      "      copying gensim\\test\\test_data\\test_glove.txt -> build\\lib.win-amd64-cpython-312\\gensim\\test\\test_data\n",
      "      copying gensim\\test\\test_data\\test_mmcorpus_corrupt.mm -> build\\lib.win-amd64-cpython-312\\gensim\\test\\test_data\n",
      "      copying gensim\\test\\test_data\\test_mmcorpus_no_index.mm -> build\\lib.win-amd64-cpython-312\\gensim\\test\\test_data\n",
      "      copying gensim\\test\\test_data\\test_mmcorpus_no_index.mm.bz2 -> build\\lib.win-amd64-cpython-312\\gensim\\test\\test_data\n",
      "      copying gensim\\test\\test_data\\test_mmcorpus_no_index.mm.gz -> build\\lib.win-amd64-cpython-312\\gensim\\test\\test_data\n",
      "      copying gensim\\test\\test_data\\test_mmcorpus_overflow.mm -> build\\lib.win-amd64-cpython-312\\gensim\\test\\test_data\n",
      "      copying gensim\\test\\test_data\\test_mmcorpus_with_index.mm -> build\\lib.win-amd64-cpython-312\\gensim\\test\\test_data\n",
      "      copying gensim\\test\\test_data\\test_mmcorpus_with_index.mm.index -> build\\lib.win-amd64-cpython-312\\gensim\\test\\test_data\n",
      "      copying gensim\\test\\test_data\\testcorpus.blei -> build\\lib.win-amd64-cpython-312\\gensim\\test\\test_data\n",
      "      copying gensim\\test\\test_data\\testcorpus.blei.index -> build\\lib.win-amd64-cpython-312\\gensim\\test\\test_data\n",
      "      copying gensim\\test\\test_data\\testcorpus.blei.vocab -> build\\lib.win-amd64-cpython-312\\gensim\\test\\test_data\n",
      "      copying gensim\\test\\test_data\\testcorpus.low -> build\\lib.win-amd64-cpython-312\\gensim\\test\\test_data\n",
      "      copying gensim\\test\\test_data\\testcorpus.low.index -> build\\lib.win-amd64-cpython-312\\gensim\\test\\test_data\n",
      "      copying gensim\\test\\test_data\\testcorpus.mallet -> build\\lib.win-amd64-cpython-312\\gensim\\test\\test_data\n",
      "      copying gensim\\test\\test_data\\testcorpus.mallet.index -> build\\lib.win-amd64-cpython-312\\gensim\\test\\test_data\n",
      "      copying gensim\\test\\test_data\\testcorpus.mm -> build\\lib.win-amd64-cpython-312\\gensim\\test\\test_data\n",
      "      copying gensim\\test\\test_data\\testcorpus.mm.index -> build\\lib.win-amd64-cpython-312\\gensim\\test\\test_data\n",
      "      copying gensim\\test\\test_data\\testcorpus.svmlight -> build\\lib.win-amd64-cpython-312\\gensim\\test\\test_data\n",
      "      copying gensim\\test\\test_data\\testcorpus.svmlight.index -> build\\lib.win-amd64-cpython-312\\gensim\\test\\test_data\n",
      "      copying gensim\\test\\test_data\\testcorpus.txt -> build\\lib.win-amd64-cpython-312\\gensim\\test\\test_data\n",
      "      copying gensim\\test\\test_data\\testcorpus.uci -> build\\lib.win-amd64-cpython-312\\gensim\\test\\test_data\n",
      "      copying gensim\\test\\test_data\\testcorpus.uci.index -> build\\lib.win-amd64-cpython-312\\gensim\\test\\test_data\n",
      "      copying gensim\\test\\test_data\\testcorpus.uci.vocab -> build\\lib.win-amd64-cpython-312\\gensim\\test\\test_data\n",
      "      copying gensim\\test\\test_data\\testcorpus.xml.bz2 -> build\\lib.win-amd64-cpython-312\\gensim\\test\\test_data\n",
      "      copying gensim\\test\\test_data\\testcorpus_serialization.mm.index -> build\\lib.win-amd64-cpython-312\\gensim\\test\\test_data\n",
      "      copying gensim\\test\\test_data\\testlowdistinctwords.txt -> build\\lib.win-amd64-cpython-312\\gensim\\test\\test_data\n",
      "      copying gensim\\test\\test_data\\testrepeatedkeywords.txt -> build\\lib.win-amd64-cpython-312\\gensim\\test\\test_data\n",
      "      copying gensim\\test\\test_data\\testsummarization_unrelated.txt -> build\\lib.win-amd64-cpython-312\\gensim\\test\\test_data\n",
      "      copying gensim\\test\\test_data\\tfidf_model.tst -> build\\lib.win-amd64-cpython-312\\gensim\\test\\test_data\n",
      "      copying gensim\\test\\test_data\\tfidf_model.tst.bz2 -> build\\lib.win-amd64-cpython-312\\gensim\\test\\test_data\n",
      "      copying gensim\\test\\test_data\\tfidf_model_3_2.tst -> build\\lib.win-amd64-cpython-312\\gensim\\test\\test_data\n",
      "      copying gensim\\test\\test_data\\toy-data.txt -> build\\lib.win-amd64-cpython-312\\gensim\\test\\test_data\n",
      "      copying gensim\\test\\test_data\\toy-model-pretrained.bin -> build\\lib.win-amd64-cpython-312\\gensim\\test\\test_data\n",
      "      copying gensim\\test\\test_data\\toy-model.bin -> build\\lib.win-amd64-cpython-312\\gensim\\test\\test_data\n",
      "      copying gensim\\test\\test_data\\toy-model.vec -> build\\lib.win-amd64-cpython-312\\gensim\\test\\test_data\n",
      "      copying gensim\\test\\test_data\\varembed_lee_subcorpus.cor -> build\\lib.win-amd64-cpython-312\\gensim\\test\\test_data\n",
      "      copying gensim\\test\\test_data\\varembed_morfessor.bin -> build\\lib.win-amd64-cpython-312\\gensim\\test\\test_data\n",
      "      copying gensim\\test\\test_data\\varembed_vectors.pkl -> build\\lib.win-amd64-cpython-312\\gensim\\test\\test_data\n",
      "      copying gensim\\test\\test_data\\w2v-lee-v0.12.0 -> build\\lib.win-amd64-cpython-312\\gensim\\test\\test_data\n",
      "      copying gensim\\test\\test_data\\w2v_keyedvectors_load_test.modeldata -> build\\lib.win-amd64-cpython-312\\gensim\\test\\test_data\n",
      "      copying gensim\\test\\test_data\\w2v_keyedvectors_load_test.vocab -> build\\lib.win-amd64-cpython-312\\gensim\\test\\test_data\n",
      "      copying gensim\\test\\test_data\\word2vec_3.3 -> build\\lib.win-amd64-cpython-312\\gensim\\test\\test_data\n",
      "      copying gensim\\test\\test_data\\word2vec_old -> build\\lib.win-amd64-cpython-312\\gensim\\test\\test_data\n",
      "      copying gensim\\test\\test_data\\word2vec_old_sep -> build\\lib.win-amd64-cpython-312\\gensim\\test\\test_data\n",
      "      copying gensim\\test\\test_data\\word2vec_old_sep.syn0_lockf.npy -> build\\lib.win-amd64-cpython-312\\gensim\\test\\test_data\n",
      "      copying gensim\\test\\test_data\\word2vec_old_sep.syn1neg.npy -> build\\lib.win-amd64-cpython-312\\gensim\\test\\test_data\n",
      "      copying gensim\\test\\test_data\\word2vec_pre_kv_c -> build\\lib.win-amd64-cpython-312\\gensim\\test\\test_data\n",
      "      copying gensim\\test\\test_data\\word2vec_pre_kv_py2 -> build\\lib.win-amd64-cpython-312\\gensim\\test\\test_data\n",
      "      copying gensim\\test\\test_data\\word2vec_pre_kv_py3 -> build\\lib.win-amd64-cpython-312\\gensim\\test\\test_data\n",
      "      copying gensim\\test\\test_data\\word2vec_pre_kv_py3_4 -> build\\lib.win-amd64-cpython-312\\gensim\\test\\test_data\n",
      "      copying gensim\\test\\test_data\\word2vec_pre_kv_sep_py2 -> build\\lib.win-amd64-cpython-312\\gensim\\test\\test_data\n",
      "      copying gensim\\test\\test_data\\word2vec_pre_kv_sep_py2.neg_labels.npy -> build\\lib.win-amd64-cpython-312\\gensim\\test\\test_data\n",
      "      copying gensim\\test\\test_data\\word2vec_pre_kv_sep_py2.syn0.npy -> build\\lib.win-amd64-cpython-312\\gensim\\test\\test_data\n",
      "      copying gensim\\test\\test_data\\word2vec_pre_kv_sep_py2.syn0_lockf.npy -> build\\lib.win-amd64-cpython-312\\gensim\\test\\test_data\n",
      "      copying gensim\\test\\test_data\\word2vec_pre_kv_sep_py2.syn1neg.npy -> build\\lib.win-amd64-cpython-312\\gensim\\test\\test_data\n",
      "      copying gensim\\test\\test_data\\word2vec_pre_kv_sep_py3 -> build\\lib.win-amd64-cpython-312\\gensim\\test\\test_data\n",
      "      copying gensim\\test\\test_data\\word2vec_pre_kv_sep_py3.neg_labels.npy -> build\\lib.win-amd64-cpython-312\\gensim\\test\\test_data\n",
      "      copying gensim\\test\\test_data\\word2vec_pre_kv_sep_py3.syn0.npy -> build\\lib.win-amd64-cpython-312\\gensim\\test\\test_data\n",
      "      copying gensim\\test\\test_data\\word2vec_pre_kv_sep_py3.syn0_lockf.npy -> build\\lib.win-amd64-cpython-312\\gensim\\test\\test_data\n",
      "      copying gensim\\test\\test_data\\word2vec_pre_kv_sep_py3.syn1neg.npy -> build\\lib.win-amd64-cpython-312\\gensim\\test\\test_data\n",
      "      copying gensim\\test\\test_data\\word2vec_pre_kv_sep_py3_4 -> build\\lib.win-amd64-cpython-312\\gensim\\test\\test_data\n",
      "      copying gensim\\test\\test_data\\word2vec_pre_kv_sep_py3_4.neg_labels.npy -> build\\lib.win-amd64-cpython-312\\gensim\\test\\test_data\n",
      "      copying gensim\\test\\test_data\\word2vec_pre_kv_sep_py3_4.syn0.npy -> build\\lib.win-amd64-cpython-312\\gensim\\test\\test_data\n",
      "      copying gensim\\test\\test_data\\word2vec_pre_kv_sep_py3_4.syn0_lockf.npy -> build\\lib.win-amd64-cpython-312\\gensim\\test\\test_data\n",
      "      copying gensim\\test\\test_data\\word2vec_pre_kv_sep_py3_4.syn1neg.npy -> build\\lib.win-amd64-cpython-312\\gensim\\test\\test_data\n",
      "      copying gensim\\test\\test_data\\wordsim353.tsv -> build\\lib.win-amd64-cpython-312\\gensim\\test\\test_data\n",
      "      creating build\\lib.win-amd64-cpython-312\\gensim\\test\\test_data\\DTM\n",
      "      copying gensim\\test\\test_data\\DTM\\ldaseq_3_0_1_model -> build\\lib.win-amd64-cpython-312\\gensim\\test\\test_data\\DTM\n",
      "      copying gensim\\test\\test_data\\DTM\\sstats_test.txt -> build\\lib.win-amd64-cpython-312\\gensim\\test\\test_data\\DTM\n",
      "      creating build\\lib.win-amd64-cpython-312\\gensim\\test\\test_data\\PathLineSentences\n",
      "      copying gensim\\test\\test_data\\PathLineSentences\\1.txt -> build\\lib.win-amd64-cpython-312\\gensim\\test\\test_data\\PathLineSentences\n",
      "      copying gensim\\test\\test_data\\PathLineSentences\\2.txt.bz2 -> build\\lib.win-amd64-cpython-312\\gensim\\test\\test_data\\PathLineSentences\n",
      "      creating build\\lib.win-amd64-cpython-312\\gensim\\test\\test_data\\old_d2v_models\n",
      "      copying gensim\\test\\test_data\\old_d2v_models\\d2v_0.12.0.mdl -> build\\lib.win-amd64-cpython-312\\gensim\\test\\test_data\\old_d2v_models\n",
      "      copying gensim\\test\\test_data\\old_d2v_models\\d2v_0.12.1.mdl -> build\\lib.win-amd64-cpython-312\\gensim\\test\\test_data\\old_d2v_models\n",
      "      copying gensim\\test\\test_data\\old_d2v_models\\d2v_0.12.2.mdl -> build\\lib.win-amd64-cpython-312\\gensim\\test\\test_data\\old_d2v_models\n",
      "      copying gensim\\test\\test_data\\old_d2v_models\\d2v_0.12.3.mdl -> build\\lib.win-amd64-cpython-312\\gensim\\test\\test_data\\old_d2v_models\n",
      "      copying gensim\\test\\test_data\\old_d2v_models\\d2v_0.12.4.mdl -> build\\lib.win-amd64-cpython-312\\gensim\\test\\test_data\\old_d2v_models\n",
      "      copying gensim\\test\\test_data\\old_d2v_models\\d2v_0.13.0.mdl -> build\\lib.win-amd64-cpython-312\\gensim\\test\\test_data\\old_d2v_models\n",
      "      copying gensim\\test\\test_data\\old_d2v_models\\d2v_0.13.1.mdl -> build\\lib.win-amd64-cpython-312\\gensim\\test\\test_data\\old_d2v_models\n",
      "      copying gensim\\test\\test_data\\old_d2v_models\\d2v_0.13.2.mdl -> build\\lib.win-amd64-cpython-312\\gensim\\test\\test_data\\old_d2v_models\n",
      "      copying gensim\\test\\test_data\\old_d2v_models\\d2v_0.13.3.mdl -> build\\lib.win-amd64-cpython-312\\gensim\\test\\test_data\\old_d2v_models\n",
      "      copying gensim\\test\\test_data\\old_d2v_models\\d2v_0.13.4.mdl -> build\\lib.win-amd64-cpython-312\\gensim\\test\\test_data\\old_d2v_models\n",
      "      copying gensim\\test\\test_data\\old_d2v_models\\d2v_1.0.0.mdl -> build\\lib.win-amd64-cpython-312\\gensim\\test\\test_data\\old_d2v_models\n",
      "      copying gensim\\test\\test_data\\old_d2v_models\\d2v_1.0.1.mdl -> build\\lib.win-amd64-cpython-312\\gensim\\test\\test_data\\old_d2v_models\n",
      "      copying gensim\\test\\test_data\\old_d2v_models\\d2v_2.0.0.mdl -> build\\lib.win-amd64-cpython-312\\gensim\\test\\test_data\\old_d2v_models\n",
      "      copying gensim\\test\\test_data\\old_d2v_models\\d2v_2.1.0.mdl -> build\\lib.win-amd64-cpython-312\\gensim\\test\\test_data\\old_d2v_models\n",
      "      copying gensim\\test\\test_data\\old_d2v_models\\d2v_2.2.0.mdl -> build\\lib.win-amd64-cpython-312\\gensim\\test\\test_data\\old_d2v_models\n",
      "      copying gensim\\test\\test_data\\old_d2v_models\\d2v_2.3.0.mdl -> build\\lib.win-amd64-cpython-312\\gensim\\test\\test_data\\old_d2v_models\n",
      "      copying gensim\\test\\test_data\\old_d2v_models\\d2v_3.0.0.mdl -> build\\lib.win-amd64-cpython-312\\gensim\\test\\test_data\\old_d2v_models\n",
      "      copying gensim\\test\\test_data\\old_d2v_models\\d2v_3.1.0.mdl -> build\\lib.win-amd64-cpython-312\\gensim\\test\\test_data\\old_d2v_models\n",
      "      copying gensim\\test\\test_data\\old_d2v_models\\d2v_3.2.0.mdl -> build\\lib.win-amd64-cpython-312\\gensim\\test\\test_data\\old_d2v_models\n",
      "      copying gensim\\test\\test_data\\old_d2v_models\\d2v_3.3.0.mdl -> build\\lib.win-amd64-cpython-312\\gensim\\test\\test_data\\old_d2v_models\n",
      "      copying gensim\\test\\test_data\\old_d2v_models\\d2v_3.4.0.mdl -> build\\lib.win-amd64-cpython-312\\gensim\\test\\test_data\\old_d2v_models\n",
      "      creating build\\lib.win-amd64-cpython-312\\gensim\\test\\test_data\\old_w2v_models\n",
      "      copying gensim\\test\\test_data\\old_w2v_models\\w2v_0.12.0.mdl -> build\\lib.win-amd64-cpython-312\\gensim\\test\\test_data\\old_w2v_models\n",
      "      copying gensim\\test\\test_data\\old_w2v_models\\w2v_0.12.1.mdl -> build\\lib.win-amd64-cpython-312\\gensim\\test\\test_data\\old_w2v_models\n",
      "      copying gensim\\test\\test_data\\old_w2v_models\\w2v_0.12.2.mdl -> build\\lib.win-amd64-cpython-312\\gensim\\test\\test_data\\old_w2v_models\n",
      "      copying gensim\\test\\test_data\\old_w2v_models\\w2v_0.12.3.mdl -> build\\lib.win-amd64-cpython-312\\gensim\\test\\test_data\\old_w2v_models\n",
      "      copying gensim\\test\\test_data\\old_w2v_models\\w2v_0.12.4.mdl -> build\\lib.win-amd64-cpython-312\\gensim\\test\\test_data\\old_w2v_models\n",
      "      copying gensim\\test\\test_data\\old_w2v_models\\w2v_0.13.0.mdl -> build\\lib.win-amd64-cpython-312\\gensim\\test\\test_data\\old_w2v_models\n",
      "      copying gensim\\test\\test_data\\old_w2v_models\\w2v_0.13.1.mdl -> build\\lib.win-amd64-cpython-312\\gensim\\test\\test_data\\old_w2v_models\n",
      "      copying gensim\\test\\test_data\\old_w2v_models\\w2v_0.13.2.mdl -> build\\lib.win-amd64-cpython-312\\gensim\\test\\test_data\\old_w2v_models\n",
      "      copying gensim\\test\\test_data\\old_w2v_models\\w2v_0.13.3.mdl -> build\\lib.win-amd64-cpython-312\\gensim\\test\\test_data\\old_w2v_models\n",
      "      copying gensim\\test\\test_data\\old_w2v_models\\w2v_0.13.4.mdl -> build\\lib.win-amd64-cpython-312\\gensim\\test\\test_data\\old_w2v_models\n",
      "      copying gensim\\test\\test_data\\old_w2v_models\\w2v_1.0.0.mdl -> build\\lib.win-amd64-cpython-312\\gensim\\test\\test_data\\old_w2v_models\n",
      "      copying gensim\\test\\test_data\\old_w2v_models\\w2v_1.0.1.mdl -> build\\lib.win-amd64-cpython-312\\gensim\\test\\test_data\\old_w2v_models\n",
      "      copying gensim\\test\\test_data\\old_w2v_models\\w2v_2.0.0.mdl -> build\\lib.win-amd64-cpython-312\\gensim\\test\\test_data\\old_w2v_models\n",
      "      copying gensim\\test\\test_data\\old_w2v_models\\w2v_2.1.0.mdl -> build\\lib.win-amd64-cpython-312\\gensim\\test\\test_data\\old_w2v_models\n",
      "      copying gensim\\test\\test_data\\old_w2v_models\\w2v_2.2.0.mdl -> build\\lib.win-amd64-cpython-312\\gensim\\test\\test_data\\old_w2v_models\n",
      "      copying gensim\\test\\test_data\\old_w2v_models\\w2v_2.3.0.mdl -> build\\lib.win-amd64-cpython-312\\gensim\\test\\test_data\\old_w2v_models\n",
      "      copying gensim\\test\\test_data\\old_w2v_models\\w2v_3.0.0.mdl -> build\\lib.win-amd64-cpython-312\\gensim\\test\\test_data\\old_w2v_models\n",
      "      copying gensim\\test\\test_data\\old_w2v_models\\w2v_3.1.0.mdl -> build\\lib.win-amd64-cpython-312\\gensim\\test\\test_data\\old_w2v_models\n",
      "      copying gensim\\test\\test_data\\old_w2v_models\\w2v_3.2.0.mdl -> build\\lib.win-amd64-cpython-312\\gensim\\test\\test_data\\old_w2v_models\n",
      "      copying gensim\\test\\test_data\\old_w2v_models\\w2v_3.3.0.mdl -> build\\lib.win-amd64-cpython-312\\gensim\\test\\test_data\\old_w2v_models\n",
      "      copying gensim\\test\\test_data\\old_w2v_models\\w2v_3.4.0.mdl -> build\\lib.win-amd64-cpython-312\\gensim\\test\\test_data\\old_w2v_models\n",
      "      running build_ext\n",
      "      building 'gensim.models.word2vec_inner' extension\n",
      "      error: Microsoft Visual C++ 14.0 or greater is required. Get it with \"Microsoft C++ Build Tools\": https://visualstudio.microsoft.com/visual-cpp-build-tools/\n",
      "      [end of output]\n",
      "  \n",
      "  note: This error originates from a subprocess, and is likely not a problem with pip.\n",
      "  ERROR: Failed building wheel for gensim\n",
      "ERROR: Could not build wheels for gensim, which is required to install pyproject.toml-based projects\n"
     ]
    },
    {
     "name": "stdout",
     "output_type": "stream",
     "text": [
      "\n",
      "  Downloading gensim-3.8.3.tar.gz (23.4 MB)\n",
      "     ---------------------------------------- 0.0/23.4 MB ? eta -:--:--\n",
      "     ---------------------------------------- 0.1/23.4 MB 4.8 MB/s eta 0:00:05\n",
      "     ---------------------------------------- 0.3/23.4 MB 3.3 MB/s eta 0:00:08\n",
      "      --------------------------------------- 0.4/23.4 MB 3.0 MB/s eta 0:00:08\n",
      "     - -------------------------------------- 0.6/23.4 MB 3.6 MB/s eta 0:00:07\n",
      "     - -------------------------------------- 0.8/23.4 MB 3.8 MB/s eta 0:00:07\n",
      "     - -------------------------------------- 1.1/23.4 MB 3.8 MB/s eta 0:00:06\n",
      "     -- ------------------------------------- 1.3/23.4 MB 3.9 MB/s eta 0:00:06\n",
      "     -- ------------------------------------- 1.4/23.4 MB 4.0 MB/s eta 0:00:06\n",
      "     -- ------------------------------------- 1.5/23.4 MB 3.6 MB/s eta 0:00:07\n",
      "     --- ------------------------------------ 1.8/23.4 MB 3.8 MB/s eta 0:00:06\n",
      "     --- ------------------------------------ 2.1/23.4 MB 3.9 MB/s eta 0:00:06\n",
      "     ---- ----------------------------------- 2.4/23.4 MB 4.2 MB/s eta 0:00:06\n",
      "     ---- ----------------------------------- 2.6/23.4 MB 4.2 MB/s eta 0:00:05\n",
      "     ---- ----------------------------------- 2.9/23.4 MB 4.2 MB/s eta 0:00:05\n",
      "     ----- ---------------------------------- 3.2/23.4 MB 4.3 MB/s eta 0:00:05\n",
      "     ----- ---------------------------------- 3.4/23.4 MB 4.4 MB/s eta 0:00:05\n",
      "     ------ --------------------------------- 3.7/23.4 MB 4.5 MB/s eta 0:00:05\n",
      "     ------ --------------------------------- 3.9/23.4 MB 4.5 MB/s eta 0:00:05\n",
      "     ------- -------------------------------- 4.2/23.4 MB 4.5 MB/s eta 0:00:05\n",
      "     ------- -------------------------------- 4.5/23.4 MB 4.7 MB/s eta 0:00:05\n",
      "     -------- ------------------------------- 4.8/23.4 MB 4.7 MB/s eta 0:00:04\n",
      "     -------- ------------------------------- 5.1/23.4 MB 4.7 MB/s eta 0:00:04\n",
      "     --------- ------------------------------ 5.5/23.4 MB 4.8 MB/s eta 0:00:04\n",
      "     --------- ------------------------------ 5.8/23.4 MB 4.8 MB/s eta 0:00:04\n",
      "     ---------- ----------------------------- 6.0/23.4 MB 4.9 MB/s eta 0:00:04\n",
      "     ---------- ----------------------------- 6.2/23.4 MB 4.8 MB/s eta 0:00:04\n",
      "     ----------- ---------------------------- 6.5/23.4 MB 4.9 MB/s eta 0:00:04\n",
      "     ----------- ---------------------------- 6.8/23.4 MB 4.9 MB/s eta 0:00:04\n",
      "     ------------ --------------------------- 7.0/23.4 MB 4.8 MB/s eta 0:00:04\n",
      "     ------------ --------------------------- 7.3/23.4 MB 4.8 MB/s eta 0:00:04\n",
      "     ------------ --------------------------- 7.6/23.4 MB 4.9 MB/s eta 0:00:04\n",
      "     ------------- -------------------------- 7.8/23.4 MB 4.9 MB/s eta 0:00:04\n",
      "     ------------- -------------------------- 8.1/23.4 MB 4.9 MB/s eta 0:00:04\n",
      "     -------------- ------------------------- 8.3/23.4 MB 4.9 MB/s eta 0:00:04\n",
      "     -------------- ------------------------- 8.6/23.4 MB 4.9 MB/s eta 0:00:03\n",
      "     --------------- ------------------------ 8.9/23.4 MB 5.0 MB/s eta 0:00:03\n",
      "     --------------- ------------------------ 9.3/23.4 MB 5.0 MB/s eta 0:00:03\n",
      "     ---------------- ----------------------- 9.5/23.4 MB 5.0 MB/s eta 0:00:03\n",
      "     ---------------- ----------------------- 9.9/23.4 MB 5.0 MB/s eta 0:00:03\n",
      "     ----------------- ---------------------- 10.1/23.4 MB 5.1 MB/s eta 0:00:03\n",
      "     ----------------- ---------------------- 10.5/23.4 MB 5.2 MB/s eta 0:00:03\n",
      "     ------------------ --------------------- 11.0/23.4 MB 5.4 MB/s eta 0:00:03\n",
      "     ------------------- -------------------- 11.3/23.4 MB 5.4 MB/s eta 0:00:03\n",
      "     -------------------- ------------------- 11.7/23.4 MB 5.6 MB/s eta 0:00:03\n",
      "     -------------------- ------------------- 12.1/23.4 MB 5.7 MB/s eta 0:00:02\n",
      "     --------------------- ------------------ 12.7/23.4 MB 5.8 MB/s eta 0:00:02\n",
      "     ---------------------- ----------------- 13.0/23.4 MB 5.8 MB/s eta 0:00:02\n",
      "     ---------------------- ----------------- 13.3/23.4 MB 5.8 MB/s eta 0:00:02\n",
      "     ----------------------- ---------------- 13.7/23.4 MB 6.0 MB/s eta 0:00:02\n",
      "     ------------------------ --------------- 14.2/23.4 MB 6.1 MB/s eta 0:00:02\n",
      "     ------------------------ --------------- 14.5/23.4 MB 6.1 MB/s eta 0:00:02\n",
      "     ------------------------- -------------- 15.0/23.4 MB 6.2 MB/s eta 0:00:02\n",
      "     -------------------------- ------------- 15.5/23.4 MB 6.4 MB/s eta 0:00:02\n",
      "     --------------------------- ------------ 16.0/23.4 MB 6.5 MB/s eta 0:00:02\n",
      "     --------------------------- ------------ 16.4/23.4 MB 6.7 MB/s eta 0:00:02\n",
      "     ---------------------------- ----------- 16.8/23.4 MB 6.8 MB/s eta 0:00:01\n",
      "     ----------------------------- ---------- 17.3/23.4 MB 7.1 MB/s eta 0:00:01\n",
      "     ------------------------------ --------- 17.8/23.4 MB 7.2 MB/s eta 0:00:01\n",
      "     ------------------------------- -------- 18.3/23.4 MB 7.4 MB/s eta 0:00:01\n",
      "     -------------------------------- ------- 18.8/23.4 MB 7.7 MB/s eta 0:00:01\n",
      "     -------------------------------- ------- 19.3/23.4 MB 7.8 MB/s eta 0:00:01\n",
      "     --------------------------------- ------ 19.8/23.4 MB 8.2 MB/s eta 0:00:01\n",
      "     ---------------------------------- ----- 20.4/23.4 MB 8.5 MB/s eta 0:00:01\n",
      "     ----------------------------------- ---- 20.9/23.4 MB 8.6 MB/s eta 0:00:01\n",
      "     ------------------------------------ --- 21.3/23.4 MB 8.8 MB/s eta 0:00:01\n",
      "     ------------------------------------- -- 22.0/23.4 MB 9.2 MB/s eta 0:00:01\n",
      "     -------------------------------------- - 22.7/23.4 MB 9.5 MB/s eta 0:00:01\n",
      "     ---------------------------------------  23.2/23.4 MB 9.8 MB/s eta 0:00:01\n",
      "     ---------------------------------------  23.4/23.4 MB 9.9 MB/s eta 0:00:01\n",
      "     ---------------------------------------  23.4/23.4 MB 9.9 MB/s eta 0:00:01\n",
      "     ---------------------------------------  23.4/23.4 MB 9.9 MB/s eta 0:00:01\n",
      "     ---------------------------------------- 23.4/23.4 MB 8.8 MB/s eta 0:00:00\n",
      "  Preparing metadata (setup.py): started\n",
      "  Preparing metadata (setup.py): finished with status 'done'\n",
      "Requirement already satisfied: numpy>=1.11.3 in c:\\users\\padha\\appdata\\local\\programs\\python\\python312\\lib\\site-packages (from gensim==3.8.3) (1.26.0)\n",
      "Requirement already satisfied: scipy>=0.18.1 in c:\\users\\padha\\appdata\\local\\programs\\python\\python312\\lib\\site-packages (from gensim==3.8.3) (1.11.3)\n",
      "Requirement already satisfied: six>=1.5.0 in c:\\users\\padha\\appdata\\local\\programs\\python\\python312\\lib\\site-packages (from gensim==3.8.3) (1.12.0)\n",
      "Requirement already satisfied: smart_open>=1.8.1 in c:\\users\\padha\\appdata\\local\\programs\\python\\python312\\lib\\site-packages (from gensim==3.8.3) (6.4.0)\n",
      "Building wheels for collected packages: gensim\n",
      "  Building wheel for gensim (setup.py): started\n",
      "  Building wheel for gensim (setup.py): finished with status 'error'\n",
      "  Running setup.py clean for gensim\n",
      "Failed to build gensim\n"
     ]
    }
   ],
   "source": [
    "%pip install gensim==3.8.3\n"
   ]
  },
  {
   "cell_type": "code",
   "execution_count": null,
   "id": "b27851a2",
   "metadata": {},
   "outputs": [],
   "source": [
    "from gensim.summarization import keywords"
   ]
  },
  {
   "cell_type": "code",
   "execution_count": null,
   "id": "cab09514",
   "metadata": {},
   "outputs": [],
   "source": [
    "a = keywords(jd, ratio=0.7)\n",
    "a"
   ]
  },
  {
   "cell_type": "code",
   "execution_count": null,
   "id": "nutritional-stake",
   "metadata": {},
   "outputs": [
    {
     "data": {
      "text/plain": [
       "'data\\ndetection\\ndetects\\nfatigue\\nfatigued\\nmodeling\\nmodel\\nfeature\\nfeatures\\nproject\\nprojects\\nteam\\nsegmentation\\nfraud\\nstatistical\\nassociate\\nassociation\\nexperience leveraging machine learning models\\ntechniques\\nincome\\ncompelling\\ndefaulters\\ndefault\\nprices\\ngithub\\nenron\\nstatements\\nproblem\\nsampling technique\\nuniversity\\nimproved academic performance\\nagriculture equipment manufacturing\\nlab\\nflorida\\nanalyst\\nmatlab\\nprasanth\\ntoolbox\\nfinal price\\nbusiness\\netl application\\naug\\nassistant\\nreduction\\nscikitlearn\\nsql\\nreddy\\nteaching\\npresent\\ncalifornia\\ngraduate\\ndriver\\nneural\\nhadoop\\nnov\\ngrowth\\ntechnologies\\npatur\\nload\\ntensorflow\\nbuilt multiple\\nprovided\\nproduct\\nproducts\\ntech\\nregistered\\ncross\\nelectronics\\ncgs\\nfraudulent\\npower\\ndataset\\npassionate advocate\\nsas\\nactivity\\nimbalanced\\nhyper tuning\\nhousing\\nbenchmarked\\nspark\\nvishnuprasanth\\npreparation turnover\\nkeras\\noracle\\ncard\\nled\\nhue\\nudacity certified\\ndeep\\njune\\nlinkedin\\ngpa\\nperson\\nskills\\njan\\namrita\\nutilized historical\\napplying\\nexpected\\neducation\\nscience\\nintuition\\nregression\\nvisualization\\nanalysis'"
      ]
     },
     "execution_count": 40,
     "metadata": {},
     "output_type": "execute_result"
    }
   ],
   "source": [
    "b = keywords(resume1, ratio =0.7)\n",
    "b"
   ]
  },
  {
   "cell_type": "code",
   "execution_count": null,
   "id": "concerned-salem",
   "metadata": {},
   "outputs": [
    {
     "name": "stdout",
     "output_type": "stream",
     "text": [
      "['pandas', 'sciences', 'data', 'visualization', 'tools', 'problems', 'bonus', 'design', 'written', 'years', 'experience', 'results', 'clearly', 'large', 'nlp', 'analysis', 'tooling', 'strong', 'knowledge', 'quantitative', 'field', 'advanced', 'degree', 'tableau', 'looker', 'statistics', 'engineering']\n"
     ]
    }
   ],
   "source": [
    "c = []\n",
    "for i in a.split('\\n'):\n",
    "    for j in i.split(' '):\n",
    "        c.append(j)\n",
    "print(c)        "
   ]
  },
  {
   "cell_type": "code",
   "execution_count": null,
   "id": "needed-jewel",
   "metadata": {},
   "outputs": [
    {
     "name": "stdout",
     "output_type": "stream",
     "text": [
      "['data', 'detection', 'detects', 'fatigue', 'fatigued', 'modeling', 'model', 'feature', 'features', 'project', 'projects', 'team', 'segmentation', 'fraud', 'statistical', 'associate', 'association', 'experience', 'leveraging', 'machine', 'learning', 'models', 'techniques', 'income', 'compelling', 'defaulters', 'default', 'prices', 'github', 'enron', 'statements', 'problem', 'sampling', 'technique', 'university', 'improved', 'academic', 'performance', 'agriculture', 'equipment', 'manufacturing', 'lab', 'florida', 'analyst', 'matlab', 'prasanth', 'toolbox', 'final', 'price', 'business', 'etl', 'application', 'aug', 'assistant', 'reduction', 'scikitlearn', 'sql', 'reddy', 'teaching', 'present', 'california', 'graduate', 'driver', 'neural', 'hadoop', 'nov', 'growth', 'technologies', 'patur', 'load', 'tensorflow', 'built', 'multiple', 'provided', 'product', 'products', 'tech', 'registered', 'cross', 'electronics', 'cgs', 'fraudulent', 'power', 'dataset', 'passionate', 'advocate', 'sas', 'activity', 'imbalanced', 'hyper', 'tuning', 'housing', 'benchmarked', 'spark', 'vishnuprasanth', 'preparation', 'turnover', 'keras', 'oracle', 'card', 'led', 'hue', 'udacity', 'certified', 'deep', 'june', 'linkedin', 'gpa', 'person', 'skills', 'jan', 'amrita', 'utilized', 'historical', 'applying', 'expected', 'education', 'science', 'intuition', 'regression', 'visualization', 'analysis']\n"
     ]
    }
   ],
   "source": [
    "d = []\n",
    "for i in b.split('\\n'):\n",
    "    for j in i.split(' '):\n",
    "        d.append(j)\n",
    "print(d)"
   ]
  },
  {
   "cell_type": "markdown",
   "id": "specified-stanford",
   "metadata": {},
   "source": [
    "#### Function to see whether resume covers all the important keywords mentioned in JD"
   ]
  },
  {
   "cell_type": "code",
   "execution_count": null,
   "id": "standing-appointment",
   "metadata": {},
   "outputs": [
    {
     "name": "stdout",
     "output_type": "stream",
     "text": [
      "Present words are:  ['data', 'visualization', 'experience', 'analysis']\n",
      "Absent words are:  ['pandas', 'sciences', 'tools', 'problems', 'bonus', 'design', 'written', 'years', 'results', 'clearly', 'large', 'nlp', 'tooling', 'strong', 'knowledge', 'quantitative', 'field', 'advanced', 'degree', 'tableau', 'looker', 'statistics', 'engineering']\n"
     ]
    }
   ],
   "source": [
    "present = []\n",
    "absent = []\n",
    "for i in c:\n",
    "    if i in d:\n",
    "        present.append(i) \n",
    "    else:\n",
    "        absent.append(i)\n",
    "print(\"Present words are: \", present)\n",
    "print(\"Absent words are: \", absent)"
   ]
  },
  {
   "cell_type": "markdown",
   "id": "extreme-caribbean",
   "metadata": {},
   "source": [
    "### Part-3 Classification of Skills "
   ]
  },
  {
   "cell_type": "code",
   "execution_count": null,
   "id": "impossible-check",
   "metadata": {},
   "outputs": [],
   "source": [
    "from spacy.matcher import PhraseMatcher"
   ]
  },
  {
   "cell_type": "code",
   "execution_count": null,
   "id": "involved-youth",
   "metadata": {},
   "outputs": [
    {
     "name": "stderr",
     "output_type": "stream",
     "text": [
      "<>:1: SyntaxWarning: invalid escape sequence '\\R'\n",
      "<>:1: SyntaxWarning: invalid escape sequence '\\R'\n",
      "C:\\Users\\padha\\AppData\\Local\\Temp\\ipykernel_10116\\3112749799.py:1: SyntaxWarning: invalid escape sequence '\\R'\n",
      "  pdfFileObj = open('D:\\ResumeShardulproj\\Resume-Analysis-using-NLP\\Resume\\senior-machine-learning-engineer-resume-example.pdf','rb')\n"
     ]
    }
   ],
   "source": [
    "pdfFileObj = open('D:\\ResumeShardulproj\\Resume-Analysis-using-NLP\\Resume\\senior-machine-learning-engineer-resume-example.pdf','rb')"
   ]
  },
  {
   "cell_type": "code",
   "execution_count": null,
   "id": "jewish-burke",
   "metadata": {},
   "outputs": [],
   "source": [
    "pdfReader = PyPDF2.PdfReader(pdfFileObj)"
   ]
  },
  {
   "cell_type": "code",
   "execution_count": null,
   "id": "funny-permit",
   "metadata": {},
   "outputs": [],
   "source": [
    "text=\"\"\n",
    "count=0"
   ]
  },
  {
   "cell_type": "code",
   "execution_count": null,
   "id": "brilliant-objective",
   "metadata": {},
   "outputs": [],
   "source": [
    "num_pages = 1"
   ]
  },
  {
   "cell_type": "code",
   "execution_count": null,
   "id": "committed-hungary",
   "metadata": {},
   "outputs": [],
   "source": [
    "while count < num_pages:\n",
    "    pageObj = pdfReader.pages[count]\n",
    "    count +=1\n",
    "    text += pageObj.extract_text()"
   ]
  },
  {
   "cell_type": "code",
   "execution_count": null,
   "id": "scientific-pacific",
   "metadata": {},
   "outputs": [],
   "source": [
    "import re\n",
    "import string\n",
    "text = text.lower()\n",
    "text = re.sub(r'\\d+','',text)\n",
    "text = text.translate(str.maketrans('','',string.punctuation))"
   ]
  },
  {
   "cell_type": "code",
   "execution_count": null,
   "id": "aging-thinking",
   "metadata": {},
   "outputs": [],
   "source": [
    "# Created dictionary with five concentrations of Data Science\n",
    "\n",
    "terms = {'Data Engineering & Warehousing ':['build', 'maintain', 'data', 'pipelines', 'engineering', 'organize', \n",
    "                                            'large','integrity','testing', 'validation', 'Postgres DBs', 'Kinesis',  \n",
    "                                            'APIs', 'Gathering', 'ETL', 'Modeling','data warehouse', 'integrate', \n",
    "                                            'SQL', 'Server', 'design', 'solution', 'ad-hoc', 'streamline','extraction', \n",
    "                                            'troubleshoot', 'architecture', 'endpoints', 'development', 'lake', 'architecture',\n",
    "                                            'databases', 'NoSQL', 'exploration'],      \n",
    "        'Data Mining & Statistical Analysis':['SAS', 'ANOVA', 'statistical', 'methodologies', 'regression', 'data mining',\n",
    "                                             'problem-solving', 'theories', 'test', 'hypotheses', 'anamoly-detection',\n",
    "                                             'SPSS', 'RStudio', 'quantitative', 'analyses', 'model', 'mathematics', 'statistic',\n",
    "                                             'techniques', 'Bayesian', 'research', 'sampling', 'findings', 'analysis', 'R',\n",
    "                                             'conduct', 'insights', 'statistical integrity', 'math', 'identify', 'analyze',\n",
    "                                             'trend', 'stake-holders', 'MATLAB', 'Inferential Statistics','Multivariate Analysis', \n",
    "                                              'Linear','Non-linear', 'mortality', 'risk factors', 'survey'],\n",
    "        'Cloud & Distributed Computing':['multi-cloud', 'develop','cloud solutions', 'domain','architects', 'technical', 'cloud',\n",
    "                                        'architecture','engineering', 'TOGAF','Zachman', 'Policies','Governance', 'Strategies',\n",
    "                                        'AWS', 'Redshift', 'PostgresQL', 'Oracle', 'cloud based', 'OLTP''metadata','OLAP', 'GCP',\n",
    "                                        'Spark', 'APIs', 'Python', 'framework', 'understanding', 'data-driven', 'Azure', 'platform',\n",
    "                                        'design', 'domain', 'tool', 'trend', 'deployment', 'application','build','environment','DevOps',\n",
    "                                         'pipeline', 'manage', 'server', 'services'],\n",
    "        'ML & AI':['structured', 'unstructured', 'kafka', 'spark', 'datapieline', 'big data','technologies', 'hive','hadoop','PySpark', \n",
    "                   'Python', 'SQL', 'MySQL', 'databases','tools', 'AWS', 'GCP', 'information retrieval', 'machine learning', 'features', \n",
    "                   'engineering','data mining', 'data processing', 'large', 'NLP', 'text', 'analytical skills', 'deployment','Git', 'Linux', \n",
    "                   'Windows','C','C++','Java','DevOps','distributed', 'software','development','requirements', 'experience', 'Tensor Flow', \n",
    "                   'PyTorch','supervised', 'unsupervised', 'building','evaluation', 'ML libraries','frameworks', 'exploratory analyses',\n",
    "                   'traditional','techniques','AI', 'algorithms', 'analyze', 'develop', 'evaluate','classification','library'],\n",
    "        'Data Visualization':['analytics','BI Tools','chart','big data','business intelligence','power BI','BOBJ','visualization','data',\n",
    "                              'database','data mining','data science','charts','hadoop','graphs','MS Excel','pivot-tables','machine learning',\n",
    "                              'creative','nosql','nlp','predictive','insights','python','r','sql','tableau','text mining','findings', 'communication', \n",
    "                              'skills', 'statistical', 'data-driven', 'SPSS', 'Alteryx', 'business', 'identify', 'dashboard','Bash','statistical',\n",
    "                             'resolve', 'translate', 'summerize', 'analyst', 'ggplot2', 'reporting', 'business', 'result']}\n"
   ]
  },
  {
   "cell_type": "code",
   "execution_count": null,
   "id": "white-church",
   "metadata": {},
   "outputs": [],
   "source": [
    "de= 0\n",
    "dm = 0\n",
    "cc = 0\n",
    "mlai=0\n",
    "dv = 0\n",
    "\n",
    "scores = []\n",
    "\n",
    "for area in terms.keys():\n",
    "        \n",
    "    if area == 'Data Engineering & Warehousing':\n",
    "        for word in terms[area]:\n",
    "            if word in text:\n",
    "                de +=1\n",
    "        scores.append(de)\n",
    "        \n",
    "    elif area == 'Data Mining & Statistical Analysis':\n",
    "        for word in terms[area]:\n",
    "            if word in text:\n",
    "                dm +=1\n",
    "        scores.append(dm)\n",
    "        \n",
    "    elif area == 'Cloud & Distributed Computing':\n",
    "        for word in terms[area]:\n",
    "            if word in text:\n",
    "                cc +=1\n",
    "        scores.append(cc)\n",
    "    \n",
    "    elif area == 'ML & AI':\n",
    "        for word in terms[area]:\n",
    "            if word in text:\n",
    "                mlai +=1\n",
    "        scores.append(mlai)\n",
    "        \n",
    "    else:\n",
    "        for word in terms[area]:\n",
    "            if word in text:\n",
    "                dv +=1\n",
    "        scores.append(dv)"
   ]
  },
  {
   "cell_type": "code",
   "execution_count": null,
   "id": "6d696fc7",
   "metadata": {},
   "outputs": [
    {
     "data": {
      "text/html": [
       "<div>\n",
       "<style scoped>\n",
       "    .dataframe tbody tr th:only-of-type {\n",
       "        vertical-align: middle;\n",
       "    }\n",
       "\n",
       "    .dataframe tbody tr th {\n",
       "        vertical-align: top;\n",
       "    }\n",
       "\n",
       "    .dataframe thead th {\n",
       "        text-align: right;\n",
       "    }\n",
       "</style>\n",
       "<table border=\"1\" class=\"dataframe\">\n",
       "  <thead>\n",
       "    <tr style=\"text-align: right;\">\n",
       "      <th></th>\n",
       "      <th>score</th>\n",
       "    </tr>\n",
       "  </thead>\n",
       "  <tbody>\n",
       "    <tr>\n",
       "      <th>Data Visualization</th>\n",
       "      <td>13</td>\n",
       "    </tr>\n",
       "    <tr>\n",
       "      <th>ML &amp; AI</th>\n",
       "      <td>9</td>\n",
       "    </tr>\n",
       "    <tr>\n",
       "      <th>Cloud &amp; Distributed Computing</th>\n",
       "      <td>8</td>\n",
       "    </tr>\n",
       "    <tr>\n",
       "      <th>Data Engineering &amp; Warehousing</th>\n",
       "      <td>5</td>\n",
       "    </tr>\n",
       "    <tr>\n",
       "      <th>Data Mining &amp; Statistical Analysis</th>\n",
       "      <td>1</td>\n",
       "    </tr>\n",
       "  </tbody>\n",
       "</table>\n",
       "</div>"
      ],
      "text/plain": [
       "                                    score\n",
       "Data Visualization                     13\n",
       "ML & AI                                 9\n",
       "Cloud & Distributed Computing           8\n",
       "Data Engineering & Warehousing          5\n",
       "Data Mining & Statistical Analysis      1"
      ]
     },
     "execution_count": 87,
     "metadata": {},
     "output_type": "execute_result"
    }
   ],
   "source": [
    "summary = pd.DataFrame(scores,index=terms.keys(),columns=['score']).sort_values(by='score',ascending=False)\n",
    "summary"
   ]
  },
  {
   "cell_type": "code",
   "execution_count": null,
   "id": "ec48fb28",
   "metadata": {},
   "outputs": [
    {
     "data": {
      "image/png": "[encoded data removed]",
      "text/plain": [
       "<Figure size 700x700 with 1 Axes>"
      ]
     },
     "metadata": {},
     "output_type": "display_data"
    }
   ],
   "source": [
    "pie = plt.figure(figsize=(7,7))\n",
    "plt.pie(summary['score'], labels=summary.index, explode = (0.07,0,0,0,0), autopct='%1.0f%%',shadow=True,startangle=90)\n",
    "plt.title('Classification of Skills')\n",
    "plt.axis('equal')\n",
    "plt.show()"
   ]
  },
  {
   "cell_type": "code",
   "execution_count": null,
   "id": "honey-disposition",
   "metadata": {},
   "outputs": [
    {
     "data": {
      "text/html": [
       "<div>\n",
       "<style scoped>\n",
       "    .dataframe tbody tr th:only-of-type {\n",
       "        vertical-align: middle;\n",
       "    }\n",
       "\n",
       "    .dataframe tbody tr th {\n",
       "        vertical-align: top;\n",
       "    }\n",
       "\n",
       "    .dataframe thead th {\n",
       "        text-align: right;\n",
       "    }\n",
       "</style>\n",
       "<table border=\"1\" class=\"dataframe\">\n",
       "  <thead>\n",
       "    <tr style=\"text-align: right;\">\n",
       "      <th></th>\n",
       "      <th>score</th>\n",
       "    </tr>\n",
       "  </thead>\n",
       "  <tbody>\n",
       "    <tr>\n",
       "      <th>Data Visualization</th>\n",
       "      <td>28</td>\n",
       "    </tr>\n",
       "    <tr>\n",
       "      <th>ML &amp; AI</th>\n",
       "      <td>16</td>\n",
       "    </tr>\n",
       "    <tr>\n",
       "      <th>Data Mining &amp; Statistical Analysis</th>\n",
       "      <td>8</td>\n",
       "    </tr>\n",
       "    <tr>\n",
       "      <th>Data Engineering &amp; Warehousing</th>\n",
       "      <td>6</td>\n",
       "    </tr>\n",
       "    <tr>\n",
       "      <th>Cloud &amp; Distributed Computing</th>\n",
       "      <td>4</td>\n",
       "    </tr>\n",
       "  </tbody>\n",
       "</table>\n",
       "</div>"
      ],
      "text/plain": [
       "                                    score\n",
       "Data Visualization                     28\n",
       "ML & AI                                16\n",
       "Data Mining & Statistical Analysis      8\n",
       "Data Engineering & Warehousing          6\n",
       "Cloud & Distributed Computing           4"
      ]
     },
     "execution_count": 17,
     "metadata": {},
     "output_type": "execute_result"
    }
   ],
   "source": [
    "summary = pd.DataFrame(scores,index=terms.keys(),columns=['score']).sort_values(by='score',ascending=False)\n",
    "summary"
   ]
  },
  {
   "cell_type": "code",
   "execution_count": null,
   "id": "strategic-lease",
   "metadata": {},
   "outputs": [
    {
     "data": {
      "image/png": "[encoded data removed]",
      "text/plain": [
       "<Figure size 504x504 with 1 Axes>"
      ]
     },
     "metadata": {},
     "output_type": "display_data"
    }
   ],
   "source": [
    "pie = plt.figure(figsize=(7,7))\n",
    "plt.pie(summary['score'], labels=summary.index, explode = (0.07,0,0,0,0), autopct='%1.0f%%',shadow=True,startangle=90)\n",
    "plt.title('Classification of Skills')\n",
    "plt.axis('equal')\n",
    "plt.show()"
   ]
  }
 ],
 "metadata": {
  "kernelspec": {
   "display_name": "Python 3",
   "language": "python",
   "name": "python3"
  },
  "language_info": {
   "codemirror_mode": {
    "name": "ipython",
    "version": 3
   },
   "file_extension": ".py",
   "mimetype": "text/x-python",
   "name": "python",
   "nbconvert_exporter": "python",
   "pygments_lexer": "ipython3",
   "version": "3.10.4"
  }
 },
 "nbformat": 4,
 "nbformat_minor": 5
}
